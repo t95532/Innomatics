{
 "cells": [
  {
   "cell_type": "code",
   "execution_count": 1,
   "id": "b6c3912c",
   "metadata": {},
   "outputs": [],
   "source": [
    "import numpy as np\n",
    "import pandas as pd\n",
    "import seaborn as sns\n",
    "import matplotlib.pyplot as plt"
   ]
  },
  {
   "cell_type": "code",
   "execution_count": 2,
   "id": "cd569f4c",
   "metadata": {},
   "outputs": [],
   "source": [
    "data = pd.read_csv('raw_data_v11_3.csv')"
   ]
  },
  {
   "cell_type": "code",
   "execution_count": 3,
   "id": "2f950791",
   "metadata": {},
   "outputs": [
    {
     "data": {
      "text/html": [
       "<div>\n",
       "<style scoped>\n",
       "    .dataframe tbody tr th:only-of-type {\n",
       "        vertical-align: middle;\n",
       "    }\n",
       "\n",
       "    .dataframe tbody tr th {\n",
       "        vertical-align: top;\n",
       "    }\n",
       "\n",
       "    .dataframe thead th {\n",
       "        text-align: right;\n",
       "    }\n",
       "</style>\n",
       "<table border=\"1\" class=\"dataframe\">\n",
       "  <thead>\n",
       "    <tr style=\"text-align: right;\">\n",
       "      <th></th>\n",
       "      <th>Date of Birth</th>\n",
       "      <th>What is your current profession?</th>\n",
       "      <th>What is the year of completion of your Highest Education Qualification?</th>\n",
       "      <th>Which of the following best describes you?</th>\n",
       "      <th>Please mention the name of the institute where you have completed or are currently pursuing your Data Science Certification Course.</th>\n",
       "      <th>In case your certification institute is \"Innomatics Research Labs\", please provide your Enrolled Batch Number.</th>\n",
       "      <th>Please indicate the time that suits you for your daily LIVE interaction with our Chief Data Scientist as part of your internship.</th>\n",
       "      <th>What do you think are most important skill right now for a skilled Data Scientist?</th>\n",
       "    </tr>\n",
       "  </thead>\n",
       "  <tbody>\n",
       "    <tr>\n",
       "      <th>0</th>\n",
       "      <td>9/16/2000</td>\n",
       "      <td>Fresher (I have completed my Education and loo...</td>\n",
       "      <td>7/30/2023</td>\n",
       "      <td>I am currently enrolled in a Data Science cert...</td>\n",
       "      <td>Innomatics Research Labs</td>\n",
       "      <td>251</td>\n",
       "      <td>6:00 to 7:00 PM IST</td>\n",
       "      <td>Extracting actionable insights from the raw da...</td>\n",
       "    </tr>\n",
       "    <tr>\n",
       "      <th>1</th>\n",
       "      <td>2/6/1998</td>\n",
       "      <td>Fresher (I have completed my Education and loo...</td>\n",
       "      <td>5/18/2022</td>\n",
       "      <td>I have never enrolled in any certification cou...</td>\n",
       "      <td>NaN</td>\n",
       "      <td>NaN</td>\n",
       "      <td>6:00 to 7:00 PM IST</td>\n",
       "      <td>Extracting actionable insights from the raw data</td>\n",
       "    </tr>\n",
       "    <tr>\n",
       "      <th>2</th>\n",
       "      <td>10/8/2003</td>\n",
       "      <td>Student (I am currently enrolled in some Educa...</td>\n",
       "      <td>4/1/2025</td>\n",
       "      <td>I am currently enrolled in a Data Science cert...</td>\n",
       "      <td>NaN</td>\n",
       "      <td>NaN</td>\n",
       "      <td>6:00 to 7:00 PM IST</td>\n",
       "      <td>Data Modelling</td>\n",
       "    </tr>\n",
       "    <tr>\n",
       "      <th>3</th>\n",
       "      <td>11/29/2001</td>\n",
       "      <td>Student (I am currently enrolled in some Educa...</td>\n",
       "      <td>5/15/2024</td>\n",
       "      <td>I have never enrolled in any certification cou...</td>\n",
       "      <td>NaN</td>\n",
       "      <td>NaN</td>\n",
       "      <td>5:00 to 6:00 PM IST</td>\n",
       "      <td>Extracting actionable insights from the raw da...</td>\n",
       "    </tr>\n",
       "    <tr>\n",
       "      <th>4</th>\n",
       "      <td>11/25/2004</td>\n",
       "      <td>Student (I am currently enrolled in some Educa...</td>\n",
       "      <td>1/10/2026</td>\n",
       "      <td>I have completed a Data Science certification ...</td>\n",
       "      <td>Velagapudi ramakrishna Siddhartha college</td>\n",
       "      <td>Na</td>\n",
       "      <td>6:00 to 7:00 PM IST</td>\n",
       "      <td>Extracting actionable insights from the raw da...</td>\n",
       "    </tr>\n",
       "    <tr>\n",
       "      <th>...</th>\n",
       "      <td>...</td>\n",
       "      <td>...</td>\n",
       "      <td>...</td>\n",
       "      <td>...</td>\n",
       "      <td>...</td>\n",
       "      <td>...</td>\n",
       "      <td>...</td>\n",
       "      <td>...</td>\n",
       "    </tr>\n",
       "    <tr>\n",
       "      <th>995</th>\n",
       "      <td>8/28/1998</td>\n",
       "      <td>Fresher (I have completed my Education and loo...</td>\n",
       "      <td>11/15/2022</td>\n",
       "      <td>I have completed a Data Science certification ...</td>\n",
       "      <td>DevTown</td>\n",
       "      <td>NaN</td>\n",
       "      <td>6:00 to 7:00 PM IST</td>\n",
       "      <td>Extracting actionable insights from the raw da...</td>\n",
       "    </tr>\n",
       "    <tr>\n",
       "      <th>996</th>\n",
       "      <td>4/22/2004</td>\n",
       "      <td>Student (I am currently enrolled in some Educa...</td>\n",
       "      <td>7/23/2026</td>\n",
       "      <td>I am currently enrolled in a Data Science cert...</td>\n",
       "      <td>ONLINE COURSE</td>\n",
       "      <td>NaN</td>\n",
       "      <td>6:00 to 7:00 PM IST</td>\n",
       "      <td>LLMs</td>\n",
       "    </tr>\n",
       "    <tr>\n",
       "      <th>997</th>\n",
       "      <td>6/8/2000</td>\n",
       "      <td>Student (I am currently enrolled in some Educa...</td>\n",
       "      <td>5/31/2024</td>\n",
       "      <td>I have completed a Data Science certification ...</td>\n",
       "      <td>Chandigarh University</td>\n",
       "      <td>NaN</td>\n",
       "      <td>6:00 to 7:00 PM IST</td>\n",
       "      <td>Extracting actionable insights from the raw da...</td>\n",
       "    </tr>\n",
       "    <tr>\n",
       "      <th>998</th>\n",
       "      <td>6/3/2003</td>\n",
       "      <td>Student (I am currently enrolled in some Educa...</td>\n",
       "      <td>5/30/2025</td>\n",
       "      <td>I have never enrolled in any certification cou...</td>\n",
       "      <td>NaN</td>\n",
       "      <td>NaN</td>\n",
       "      <td>6:00 to 7:00 PM IST</td>\n",
       "      <td>Extracting actionable insights from the raw da...</td>\n",
       "    </tr>\n",
       "    <tr>\n",
       "      <th>999</th>\n",
       "      <td>7/24/2003</td>\n",
       "      <td>Student (I am currently enrolled in some Educa...</td>\n",
       "      <td>5/25/2025</td>\n",
       "      <td>I am currently enrolled in a Data Science cert...</td>\n",
       "      <td>Birla Institute of Technology and Science, Pil...</td>\n",
       "      <td>NaN</td>\n",
       "      <td>6:00 to 7:00 PM IST</td>\n",
       "      <td>LLMs, MLOps, Prompt Engineering</td>\n",
       "    </tr>\n",
       "  </tbody>\n",
       "</table>\n",
       "<p>1000 rows × 8 columns</p>\n",
       "</div>"
      ],
      "text/plain": [
       "    Date of Birth                   What is your current profession?  \\\n",
       "0       9/16/2000  Fresher (I have completed my Education and loo...   \n",
       "1        2/6/1998  Fresher (I have completed my Education and loo...   \n",
       "2       10/8/2003  Student (I am currently enrolled in some Educa...   \n",
       "3      11/29/2001  Student (I am currently enrolled in some Educa...   \n",
       "4      11/25/2004  Student (I am currently enrolled in some Educa...   \n",
       "..            ...                                                ...   \n",
       "995     8/28/1998  Fresher (I have completed my Education and loo...   \n",
       "996     4/22/2004  Student (I am currently enrolled in some Educa...   \n",
       "997      6/8/2000  Student (I am currently enrolled in some Educa...   \n",
       "998      6/3/2003  Student (I am currently enrolled in some Educa...   \n",
       "999     7/24/2003  Student (I am currently enrolled in some Educa...   \n",
       "\n",
       "    What is the year of completion of your Highest Education Qualification?  \\\n",
       "0                                            7/30/2023                        \n",
       "1                                            5/18/2022                        \n",
       "2                                             4/1/2025                        \n",
       "3                                            5/15/2024                        \n",
       "4                                            1/10/2026                        \n",
       "..                                                 ...                        \n",
       "995                                         11/15/2022                        \n",
       "996                                          7/23/2026                        \n",
       "997                                          5/31/2024                        \n",
       "998                                          5/30/2025                        \n",
       "999                                          5/25/2025                        \n",
       "\n",
       "            Which of the following best describes you?  \\\n",
       "0    I am currently enrolled in a Data Science cert...   \n",
       "1    I have never enrolled in any certification cou...   \n",
       "2    I am currently enrolled in a Data Science cert...   \n",
       "3    I have never enrolled in any certification cou...   \n",
       "4    I have completed a Data Science certification ...   \n",
       "..                                                 ...   \n",
       "995  I have completed a Data Science certification ...   \n",
       "996  I am currently enrolled in a Data Science cert...   \n",
       "997  I have completed a Data Science certification ...   \n",
       "998  I have never enrolled in any certification cou...   \n",
       "999  I am currently enrolled in a Data Science cert...   \n",
       "\n",
       "    Please mention the name of the institute where you have completed or are currently pursuing your Data Science Certification Course.  \\\n",
       "0                             Innomatics Research Labs                                                                                    \n",
       "1                                                  NaN                                                                                    \n",
       "2                                                  NaN                                                                                    \n",
       "3                                                  NaN                                                                                    \n",
       "4           Velagapudi ramakrishna Siddhartha college                                                                                     \n",
       "..                                                 ...                                                                                    \n",
       "995                                            DevTown                                                                                    \n",
       "996                                     ONLINE COURSE                                                                                     \n",
       "997                             Chandigarh University                                                                                     \n",
       "998                                                NaN                                                                                    \n",
       "999  Birla Institute of Technology and Science, Pil...                                                                                    \n",
       "\n",
       "    In case your certification institute is \"Innomatics Research Labs\", please provide your Enrolled Batch Number.  \\\n",
       "0                                                  251                                                               \n",
       "1                                                  NaN                                                               \n",
       "2                                                  NaN                                                               \n",
       "3                                                  NaN                                                               \n",
       "4                                                   Na                                                               \n",
       "..                                                 ...                                                               \n",
       "995                                                NaN                                                               \n",
       "996                                                NaN                                                               \n",
       "997                                                NaN                                                               \n",
       "998                                                NaN                                                               \n",
       "999                                                NaN                                                               \n",
       "\n",
       "    Please indicate the time that suits you for your daily LIVE interaction with our Chief Data Scientist as part of your internship.  \\\n",
       "0                                  6:00 to 7:00 PM IST                                                                                  \n",
       "1                                  6:00 to 7:00 PM IST                                                                                  \n",
       "2                                  6:00 to 7:00 PM IST                                                                                  \n",
       "3                                  5:00 to 6:00 PM IST                                                                                  \n",
       "4                                  6:00 to 7:00 PM IST                                                                                  \n",
       "..                                                 ...                                                                                  \n",
       "995                                6:00 to 7:00 PM IST                                                                                  \n",
       "996                                6:00 to 7:00 PM IST                                                                                  \n",
       "997                                6:00 to 7:00 PM IST                                                                                  \n",
       "998                                6:00 to 7:00 PM IST                                                                                  \n",
       "999                                6:00 to 7:00 PM IST                                                                                  \n",
       "\n",
       "    What do you think are most important skill right now for a skilled Data Scientist?  \n",
       "0    Extracting actionable insights from the raw da...                                  \n",
       "1     Extracting actionable insights from the raw data                                  \n",
       "2                                       Data Modelling                                  \n",
       "3    Extracting actionable insights from the raw da...                                  \n",
       "4    Extracting actionable insights from the raw da...                                  \n",
       "..                                                 ...                                  \n",
       "995  Extracting actionable insights from the raw da...                                  \n",
       "996                                               LLMs                                  \n",
       "997  Extracting actionable insights from the raw da...                                  \n",
       "998  Extracting actionable insights from the raw da...                                  \n",
       "999                    LLMs, MLOps, Prompt Engineering                                  \n",
       "\n",
       "[1000 rows x 8 columns]"
      ]
     },
     "execution_count": 3,
     "metadata": {},
     "output_type": "execute_result"
    }
   ],
   "source": [
    "data"
   ]
  },
  {
   "cell_type": "code",
   "execution_count": 8,
   "id": "6fabbabd",
   "metadata": {},
   "outputs": [
    {
     "data": {
      "text/plain": [
       "What is your current profession?\n",
       "Student (I am currently enrolled in some Educational Program)                          488\n",
       "Fresher (I have completed my Education and looking for a job now)                      424\n",
       "Working Professional (I have completed my Education and working full time)              62\n",
       "Freelancer (I have completed my Education and working part time or owns a business)     26\n",
       "Name: count, dtype: int64"
      ]
     },
     "execution_count": 8,
     "metadata": {},
     "output_type": "execute_result"
    }
   ],
   "source": [
    "#What is the current profession of most interns?\n",
    "data['What is your current profession?'].value_counts()"
   ]
  },
  {
   "cell_type": "code",
   "execution_count": 12,
   "id": "6aae803a",
   "metadata": {},
   "outputs": [
    {
     "data": {
      "text/plain": [
       "Please indicate the time that suits you for your daily LIVE interaction with our Chief Data Scientist as part of your internship.\n",
       "6:00 to 7:00 PM IST    672\n",
       "5:00 to 6:00 PM IST    328\n",
       "Name: count, dtype: int64"
      ]
     },
     "execution_count": 12,
     "metadata": {},
     "output_type": "execute_result"
    }
   ],
   "source": [
    "# What are the preferred LIVE session timings?\n",
    "data['Please indicate the time that suits you for your daily LIVE interaction with our Chief Data Scientist as part of your internship.'].value_counts()"
   ]
  },
  {
   "cell_type": "code",
   "execution_count": 18,
   "id": "ad7520ef",
   "metadata": {},
   "outputs": [
    {
     "data": {
      "text/plain": [
       "array(['I am currently enrolled in a Data Science certification course',\n",
       "       'I have never enrolled in any certification courses',\n",
       "       'I have completed a Data Science certification course'],\n",
       "      dtype=object)"
      ]
     },
     "execution_count": 18,
     "metadata": {},
     "output_type": "execute_result"
    }
   ],
   "source": [
    "data['Which of the following best describes you?'].unique()"
   ]
  },
  {
   "cell_type": "code",
   "execution_count": 17,
   "id": "5a61e204",
   "metadata": {},
   "outputs": [
    {
     "data": {
      "text/plain": [
       "698"
      ]
     },
     "execution_count": 17,
     "metadata": {},
     "output_type": "execute_result"
    }
   ],
   "source": [
    "#How many interns are enrolled or have completed their data science professional courses?\n",
    "len(data.loc[data['Which of the following best describes you?']=='I am currently enrolled in a Data Science certification course'])+len(data.loc[data['Which of the following best describes you?']=='I have completed a Data Science certification course'])"
   ]
  },
  {
   "cell_type": "code",
   "execution_count": 19,
   "id": "7c62bd6b",
   "metadata": {},
   "outputs": [
    {
     "data": {
      "text/plain": [
       "What is your current profession?\n",
       "Student (I am currently enrolled in some Educational Program)                          65.894040\n",
       "Fresher (I have completed my Education and looking for a job now)                      28.807947\n",
       "Working Professional (I have completed my Education and working full time)              4.304636\n",
       "Freelancer (I have completed my Education and working part time or owns a business)     0.993377\n",
       "Name: proportion, dtype: float64"
      ]
     },
     "execution_count": 19,
     "metadata": {},
     "output_type": "execute_result"
    }
   ],
   "source": [
    "#For interns who never enrolled in a data science certification course, what is the current profession of the majority of them\n",
    "data.loc[data['Which of the following best describes you?']=='I have never enrolled in any certification courses']['What is your current profession?'].value_counts(normalize=True)*100"
   ]
  },
  {
   "cell_type": "code",
   "execution_count": 25,
   "id": "985b6dd8",
   "metadata": {},
   "outputs": [
    {
     "data": {
      "text/plain": [
       "What do you think are most important skill right now for a skilled Data Scientist?\n",
       "Extracting actionable insights from the raw data, Data Modelling, LLMs, MLOps, Basics of backend application development using python, Prompt Engineering    214\n",
       "Extracting actionable insights from the raw data, Data Modelling, MLOps                                                                                       73\n",
       "Extracting actionable insights from the raw data, Data Modelling                                                                                              70\n",
       "Extracting actionable insights from the raw data, Data Modelling, LLMs, MLOps                                                                                 66\n",
       "Extracting actionable insights from the raw data, Data Modelling, Basics of backend application development using python                                      59\n",
       "Extracting actionable insights from the raw data, Data Modelling, MLOps, Basics of backend application development using python                               51\n",
       "Extracting actionable insights from the raw data, Data Modelling, LLMs, MLOps, Basics of backend application development using python                         42\n",
       "Extracting actionable insights from the raw data                                                                                                              41\n",
       "Extracting actionable insights from the raw data, Data Modelling, LLMs, MLOps, Prompt Engineering                                                             31\n",
       "Extracting actionable insights from the raw data, Data Modelling, LLMs                                                                                        31\n",
       "Extracting actionable insights from the raw data, Data Modelling, Basics of backend application development using python, Prompt Engineering                  27\n",
       "Extracting actionable insights from the raw data, Data Modelling, LLMs, Basics of backend application development using python                                25\n",
       "Extracting actionable insights from the raw data, Data Modelling, Prompt Engineering                                                                          25\n",
       "Basics of backend application development using python                                                                                                        20\n",
       "Extracting actionable insights from the raw data, Data Modelling, LLMs, Prompt Engineering                                                                    18\n",
       "Extracting actionable insights from the raw data, Data Modelling, MLOps, Prompt Engineering                                                                   14\n",
       "Data Modelling                                                                                                                                                14\n",
       "Extracting actionable insights from the raw data, Data Modelling, LLMs, Basics of backend application development using python, Prompt Engineering            13\n",
       "LLMs, MLOps, Prompt Engineering                                                                                                                               10\n",
       "Extracting actionable insights from the raw data, LLMs, MLOps                                                                                                 10\n",
       "Data Modelling, LLMs, MLOps                                                                                                                                    9\n",
       "Extracting actionable insights from the raw data, Basics of backend application development using python                                                       8\n",
       "MLOps                                                                                                                                                          8\n",
       "Data Modelling, MLOps, Basics of backend application development using python                                                                                  7\n",
       "Prompt Engineering                                                                                                                                             7\n",
       "Extracting actionable insights from the raw data, LLMs, MLOps, Prompt Engineering                                                                              6\n",
       "Extracting actionable insights from the raw data, MLOps                                                                                                        6\n",
       "Extracting actionable insights from the raw data, Data Modelling, MLOps, Basics of backend application development using python, Prompt Engineering            6\n",
       "Data Modelling, LLMs, MLOps, Prompt Engineering                                                                                                                6\n",
       "LLMs, MLOps                                                                                                                                                    5\n",
       "Basics of backend application development using python, Prompt Engineering                                                                                     5\n",
       "Extracting actionable insights from the raw data, Basics of backend application development using python, Prompt Engineering                                   5\n",
       "Extracting actionable insights from the raw data, LLMs, MLOps, Basics of backend application development using python                                          5\n",
       "Extracting actionable insights from the raw data, LLMs, Prompt Engineering                                                                                     5\n",
       "Data Modelling, Basics of backend application development using python                                                                                         4\n",
       "LLMs                                                                                                                                                           4\n",
       "Data Modelling, LLMs, MLOps, Basics of backend application development using python, Prompt Engineering                                                        4\n",
       "LLMs, MLOps, Basics of backend application development using python, Prompt Engineering                                                                        3\n",
       "Extracting actionable insights from the raw data, MLOps, Prompt Engineering                                                                                    3\n",
       "Extracting actionable insights from the raw data, Prompt Engineering                                                                                           3\n",
       "Data Modelling, LLMs, Basics of backend application development using python, Prompt Engineering                                                               3\n",
       "Data Modelling, LLMs, MLOps, Basics of backend application development using python                                                                            3\n",
       "Data Modelling, LLMs                                                                                                                                           3\n",
       "Extracting actionable insights from the raw data, LLMs, Basics of backend application development using python                                                 3\n",
       "Extracting actionable insights from the raw data, LLMs, MLOps, Basics of backend application development using python, Prompt Engineering                      2\n",
       "Data Modelling, LLMs, Prompt Engineering                                                                                                                       2\n",
       "Extracting actionable insights from the raw data, LLMs                                                                                                         2\n",
       "Data Modelling, MLOps, Basics of backend application development using python, Prompt Engineering                                                              2\n",
       "LLMs, Basics of backend application development using python, Prompt Engineering                                                                               2\n",
       "Extracting actionable insights from the raw data, LLMs, Basics of backend application development using python, Prompt Engineering                             2\n",
       "Data Modelling, MLOps                                                                                                                                          2\n",
       "LLMs, Prompt Engineering                                                                                                                                       2\n",
       "Extracting actionable insights from the raw data, MLOps, Basics of backend application development using python, Prompt Engineering                            2\n",
       "Extracting actionable insights from the raw data, MLOps, Basics of backend application development using python                                                1\n",
       "Data Modelling, MLOps, Prompt Engineering                                                                                                                      1\n",
       "LLMs, Basics of backend application development using python                                                                                                   1\n",
       "LLMs, MLOps, Basics of backend application development using python                                                                                            1\n",
       "MLOps, Basics of backend application development using python                                                                                                  1\n",
       "MLOps, Basics of backend application development using python, Prompt Engineering                                                                              1\n",
       "MLOps, Prompt Engineering                                                                                                                                      1\n",
       "Name: count, dtype: int64"
      ]
     },
     "execution_count": 25,
     "metadata": {},
     "output_type": "execute_result"
    }
   ],
   "source": [
    "data['What do you think are most important skill right now for a skilled Data Scientist?'].value_counts(sort = True)"
   ]
  },
  {
   "cell_type": "code",
   "execution_count": 26,
   "id": "86c02b06",
   "metadata": {},
   "outputs": [
    {
     "data": {
      "text/plain": [
       "7"
      ]
     },
     "execution_count": 26,
     "metadata": {},
     "output_type": "execute_result"
    }
   ],
   "source": [
    "# interns thinking prompt engineering only important\n",
    "len(data.loc[data['What do you think are most important skill right now for a skilled Data Scientist?']=='Prompt Engineering'])"
   ]
  },
  {
   "cell_type": "code",
   "execution_count": 29,
   "id": "6bbba0d9",
   "metadata": {},
   "outputs": [
    {
     "name": "stdout",
     "output_type": "stream",
     "text": [
      "425\n"
     ]
    }
   ],
   "source": [
    "# interns thinking Prompt engineering alone and prompt engineering along with other skills is important\n",
    "Prompt = 0\n",
    "for i in data['What do you think are most important skill right now for a skilled Data Scientist?']:\n",
    "    if 'Prompt Engineering' in i:\n",
    "        Prompt+=1\n",
    "    else:\n",
    "        pass\n",
    "print(Prompt)"
   ]
  },
  {
   "cell_type": "code",
   "execution_count": 32,
   "id": "f1d10140",
   "metadata": {},
   "outputs": [],
   "source": [
    "data['Date of Birth'] = pd.to_datetime(data['Date of Birth'], format='%m/%d/%Y')"
   ]
  },
  {
   "cell_type": "code",
   "execution_count": 34,
   "id": "2b463c9c",
   "metadata": {},
   "outputs": [
    {
     "data": {
      "text/html": [
       "<div>\n",
       "<style scoped>\n",
       "    .dataframe tbody tr th:only-of-type {\n",
       "        vertical-align: middle;\n",
       "    }\n",
       "\n",
       "    .dataframe tbody tr th {\n",
       "        vertical-align: top;\n",
       "    }\n",
       "\n",
       "    .dataframe thead th {\n",
       "        text-align: right;\n",
       "    }\n",
       "</style>\n",
       "<table border=\"1\" class=\"dataframe\">\n",
       "  <thead>\n",
       "    <tr style=\"text-align: right;\">\n",
       "      <th></th>\n",
       "      <th>Date of Birth</th>\n",
       "      <th>What is your current profession?</th>\n",
       "      <th>What is the year of completion of your Highest Education Qualification?</th>\n",
       "      <th>Which of the following best describes you?</th>\n",
       "      <th>Please mention the name of the institute where you have completed or are currently pursuing your Data Science Certification Course.</th>\n",
       "      <th>In case your certification institute is \"Innomatics Research Labs\", please provide your Enrolled Batch Number.</th>\n",
       "      <th>Please indicate the time that suits you for your daily LIVE interaction with our Chief Data Scientist as part of your internship.</th>\n",
       "      <th>What do you think are most important skill right now for a skilled Data Scientist?</th>\n",
       "    </tr>\n",
       "  </thead>\n",
       "  <tbody>\n",
       "    <tr>\n",
       "      <th>0</th>\n",
       "      <td>2000-09-16</td>\n",
       "      <td>Fresher (I have completed my Education and loo...</td>\n",
       "      <td>7/30/2023</td>\n",
       "      <td>I am currently enrolled in a Data Science cert...</td>\n",
       "      <td>Innomatics Research Labs</td>\n",
       "      <td>251</td>\n",
       "      <td>6:00 to 7:00 PM IST</td>\n",
       "      <td>Extracting actionable insights from the raw da...</td>\n",
       "    </tr>\n",
       "    <tr>\n",
       "      <th>1</th>\n",
       "      <td>1998-02-06</td>\n",
       "      <td>Fresher (I have completed my Education and loo...</td>\n",
       "      <td>5/18/2022</td>\n",
       "      <td>I have never enrolled in any certification cou...</td>\n",
       "      <td>NaN</td>\n",
       "      <td>NaN</td>\n",
       "      <td>6:00 to 7:00 PM IST</td>\n",
       "      <td>Extracting actionable insights from the raw data</td>\n",
       "    </tr>\n",
       "    <tr>\n",
       "      <th>2</th>\n",
       "      <td>2003-10-08</td>\n",
       "      <td>Student (I am currently enrolled in some Educa...</td>\n",
       "      <td>4/1/2025</td>\n",
       "      <td>I am currently enrolled in a Data Science cert...</td>\n",
       "      <td>NaN</td>\n",
       "      <td>NaN</td>\n",
       "      <td>6:00 to 7:00 PM IST</td>\n",
       "      <td>Data Modelling</td>\n",
       "    </tr>\n",
       "    <tr>\n",
       "      <th>3</th>\n",
       "      <td>2001-11-29</td>\n",
       "      <td>Student (I am currently enrolled in some Educa...</td>\n",
       "      <td>5/15/2024</td>\n",
       "      <td>I have never enrolled in any certification cou...</td>\n",
       "      <td>NaN</td>\n",
       "      <td>NaN</td>\n",
       "      <td>5:00 to 6:00 PM IST</td>\n",
       "      <td>Extracting actionable insights from the raw da...</td>\n",
       "    </tr>\n",
       "    <tr>\n",
       "      <th>4</th>\n",
       "      <td>2004-11-25</td>\n",
       "      <td>Student (I am currently enrolled in some Educa...</td>\n",
       "      <td>1/10/2026</td>\n",
       "      <td>I have completed a Data Science certification ...</td>\n",
       "      <td>Velagapudi ramakrishna Siddhartha college</td>\n",
       "      <td>Na</td>\n",
       "      <td>6:00 to 7:00 PM IST</td>\n",
       "      <td>Extracting actionable insights from the raw da...</td>\n",
       "    </tr>\n",
       "  </tbody>\n",
       "</table>\n",
       "</div>"
      ],
      "text/plain": [
       "  Date of Birth                   What is your current profession?  \\\n",
       "0    2000-09-16  Fresher (I have completed my Education and loo...   \n",
       "1    1998-02-06  Fresher (I have completed my Education and loo...   \n",
       "2    2003-10-08  Student (I am currently enrolled in some Educa...   \n",
       "3    2001-11-29  Student (I am currently enrolled in some Educa...   \n",
       "4    2004-11-25  Student (I am currently enrolled in some Educa...   \n",
       "\n",
       "  What is the year of completion of your Highest Education Qualification?  \\\n",
       "0                                          7/30/2023                        \n",
       "1                                          5/18/2022                        \n",
       "2                                           4/1/2025                        \n",
       "3                                          5/15/2024                        \n",
       "4                                          1/10/2026                        \n",
       "\n",
       "          Which of the following best describes you?  \\\n",
       "0  I am currently enrolled in a Data Science cert...   \n",
       "1  I have never enrolled in any certification cou...   \n",
       "2  I am currently enrolled in a Data Science cert...   \n",
       "3  I have never enrolled in any certification cou...   \n",
       "4  I have completed a Data Science certification ...   \n",
       "\n",
       "  Please mention the name of the institute where you have completed or are currently pursuing your Data Science Certification Course.  \\\n",
       "0                           Innomatics Research Labs                                                                                    \n",
       "1                                                NaN                                                                                    \n",
       "2                                                NaN                                                                                    \n",
       "3                                                NaN                                                                                    \n",
       "4         Velagapudi ramakrishna Siddhartha college                                                                                     \n",
       "\n",
       "  In case your certification institute is \"Innomatics Research Labs\", please provide your Enrolled Batch Number.  \\\n",
       "0                                                251                                                               \n",
       "1                                                NaN                                                               \n",
       "2                                                NaN                                                               \n",
       "3                                                NaN                                                               \n",
       "4                                                 Na                                                               \n",
       "\n",
       "  Please indicate the time that suits you for your daily LIVE interaction with our Chief Data Scientist as part of your internship.  \\\n",
       "0                                6:00 to 7:00 PM IST                                                                                  \n",
       "1                                6:00 to 7:00 PM IST                                                                                  \n",
       "2                                6:00 to 7:00 PM IST                                                                                  \n",
       "3                                5:00 to 6:00 PM IST                                                                                  \n",
       "4                                6:00 to 7:00 PM IST                                                                                  \n",
       "\n",
       "  What do you think are most important skill right now for a skilled Data Scientist?  \n",
       "0  Extracting actionable insights from the raw da...                                  \n",
       "1   Extracting actionable insights from the raw data                                  \n",
       "2                                     Data Modelling                                  \n",
       "3  Extracting actionable insights from the raw da...                                  \n",
       "4  Extracting actionable insights from the raw da...                                  "
      ]
     },
     "execution_count": 34,
     "metadata": {},
     "output_type": "execute_result"
    }
   ],
   "source": [
    "data.head()"
   ]
  },
  {
   "cell_type": "code",
   "execution_count": 50,
   "id": "f758d031",
   "metadata": {},
   "outputs": [
    {
     "data": {
      "text/plain": [
       "0"
      ]
     },
     "execution_count": 50,
     "metadata": {},
     "output_type": "execute_result"
    }
   ],
   "source": [
    "#What is the minimum age of an intern at Innomatics Research Labs?\n",
    "import datetime\n",
    "today = datetime.date.today()\n",
    "today.year - data['Date of Birth'].max().year"
   ]
  },
  {
   "cell_type": "code",
   "execution_count": 54,
   "id": "85f512b0",
   "metadata": {},
   "outputs": [],
   "source": [
    "data['Date of Birth'] = data['Date of Birth'].dt.to_pydatetime()"
   ]
  },
  {
   "cell_type": "code",
   "execution_count": 59,
   "id": "ffd7fd3f",
   "metadata": {},
   "outputs": [
    {
     "name": "stdout",
     "output_type": "stream",
     "text": [
      "125\n"
     ]
    }
   ],
   "source": [
    "# How many interns were born on a Sunday?\n",
    "sunday = 0\n",
    "for i in data['Date of Birth']:\n",
    "    if i.weekday() == 6:\n",
    "        sunday+=1\n",
    "    else:\n",
    "        pass\n",
    "print(sunday)"
   ]
  },
  {
   "cell_type": "code",
   "execution_count": 85,
   "id": "25398ca5",
   "metadata": {},
   "outputs": [
    {
     "data": {
      "text/plain": [
       "<Axes: xlabel='Date of Birth', ylabel='count'>"
      ]
     },
     "execution_count": 85,
     "metadata": {},
     "output_type": "execute_result"
    },
    {
     "data": {
      "image/png": "[encoded data removed]",
      "text/plain": [
       "<Figure size 1000x600 with 1 Axes>"
      ]
     },
     "metadata": {},
     "output_type": "display_data"
    }
   ],
   "source": [
    "plt.figure(figsize=(10, 6))\n",
    "sns.countplot(data=data, x=data['Date of Birth'].dt.month_name(), order=data['Date of Birth'].dt.month_name().value_counts().index)"
   ]
  },
  {
   "cell_type": "code",
   "execution_count": 93,
   "id": "f546e6fd",
   "metadata": {},
   "outputs": [],
   "source": [
    "work_prof_Age = []\n",
    "for i in range(0, len(data)):\n",
    "    if data['What is your current profession?'][i] == 'Working Professional (I have completed my Education and working full time)':\n",
    "        work_prof_Age.append(today.year-data['Date of Birth'][i].year)"
   ]
  },
  {
   "cell_type": "code",
   "execution_count": 94,
   "id": "09b80bb3",
   "metadata": {},
   "outputs": [
    {
     "data": {
      "text/plain": [
       "27.0"
      ]
     },
     "execution_count": 94,
     "metadata": {},
     "output_type": "execute_result"
    }
   ],
   "source": [
    "# What is the median age of a working professional?\n",
    "from statistics import median\n",
    "median(work_prof_Age)"
   ]
  },
  {
   "cell_type": "code",
   "execution_count": 95,
   "id": "30376bfe",
   "metadata": {},
   "outputs": [
    {
     "name": "stdout",
     "output_type": "stream",
     "text": [
      "max age of freelancer: 44\n"
     ]
    }
   ],
   "source": [
    "# What is the maximum age of a freelancer?\n",
    "Age_freelance = []\n",
    "for i in range(0, len(data)):\n",
    "    if data['What is your current profession?'][i] == 'Freelancer (I have completed my Education and working part time or owns a business)':\n",
    "        Age_freelance.append(today.year-data['Date of Birth'][i].year)\n",
    "print('max age of freelancer:', max(Age_freelance))"
   ]
  },
  {
   "cell_type": "code",
   "execution_count": 96,
   "id": "4931a335",
   "metadata": {},
   "outputs": [
    {
     "data": {
      "text/plain": [
       "322"
      ]
     },
     "execution_count": 96,
     "metadata": {},
     "output_type": "execute_result"
    }
   ],
   "source": [
    "# How many interns didn’t mention the name of the data science institute from where they completed or are currently pursuing the courses?\n",
    "data['Please mention the name of the institute where you have completed or are currently pursuing your Data Science Certification Course.'].isnull().sum()"
   ]
  },
  {
   "cell_type": "code",
   "execution_count": 104,
   "id": "918e93c9",
   "metadata": {},
   "outputs": [
    {
     "name": "stdout",
     "output_type": "stream",
     "text": [
      "278\n"
     ]
    }
   ],
   "source": [
    "inno = 0\n",
    "for i in data['Please mention the name of the institute where you have completed or are currently pursuing your Data Science Certification Course.']:\n",
    "    if type(i)== type('str'):\n",
    "        if 'innomatics' in i.lower():\n",
    "            inno+=1\n",
    "        else:\n",
    "            pass\n",
    "        pass\n",
    "    pass\n",
    "print(inno)"
   ]
  }
 ],
 "metadata": {
  "kernelspec": {
   "display_name": "Python 3 (ipykernel)",
   "language": "python",
   "name": "python3"
  },
  "language_info": {
   "codemirror_mode": {
    "name": "ipython",
    "version": 3
   },
   "file_extension": ".py",
   "mimetype": "text/x-python",
   "name": "python",
   "nbconvert_exporter": "python",
   "pygments_lexer": "ipython3",
   "version": "3.11.5"
  }
 },
 "nbformat": 4,
 "nbformat_minor": 5
}
