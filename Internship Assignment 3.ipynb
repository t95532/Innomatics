{
 "cells": [
  {
   "cell_type": "code",
   "execution_count": 1,
   "id": "5c2c617b",
   "metadata": {},
   "outputs": [
    {
     "name": "stdout",
     "output_type": "stream",
     "text": [
      "C:\\Users\\K Tarun\n"
     ]
    }
   ],
   "source": [
    "cd"
   ]
  },
  {
   "cell_type": "code",
   "execution_count": 2,
   "id": "60cfbb3b",
   "metadata": {},
   "outputs": [
    {
     "name": "stdout",
     "output_type": "stream",
     "text": [
      "NumPy alias: np\n",
      "Pandas alias: pd\n",
      "Matplotlib alias: plt\n",
      "Seaborn alias: sns\n",
      "Scikit-learn alias: sk\n",
      "TensorFlow alias: tf\n",
      "Keras alias: kr\n",
      "Plotly alias: px\n"
     ]
    }
   ],
   "source": [
    "%run basic_imports.py"
   ]
  },
  {
   "cell_type": "code",
   "execution_count": 3,
   "id": "2562e708",
   "metadata": {},
   "outputs": [],
   "source": [
    "product = pd.read_csv(\"D:/downloads/diminos_data_v2/diminos_data_v2/products.csv\")\n",
    "deliveries = pd.read_csv(\"D:/downloads/diminos_data_v2/diminos_data_v2/deliveries.csv\")\n",
    "orders = pd.read_csv(\"D:/downloads/diminos_data_v2/diminos_data_v2/orders.csv\")\n",
    "orders_items = pd.read_csv(\"D:/downloads/diminos_data_v2/diminos_data_v2/order_items.csv\")"
   ]
  },
  {
   "cell_type": "code",
   "execution_count": 4,
   "id": "796a51dc",
   "metadata": {},
   "outputs": [
    {
     "name": "stdout",
     "output_type": "stream",
     "text": [
      "Product: (37, 5)\n",
      "deliveries: (1363008, 3)\n",
      "orders: (454336, 2)\n",
      "orders_items: (454336, 2)\n"
     ]
    }
   ],
   "source": [
    "print('Product:', product.shape)\n",
    "print('deliveries:', deliveries.shape)\n",
    "print('orders:', orders.shape)\n",
    "print('orders_items:', orders_items.shape)"
   ]
  },
  {
   "cell_type": "code",
   "execution_count": 5,
   "id": "fd35f19c",
   "metadata": {},
   "outputs": [],
   "source": [
    "frames = [product, deliveries, orders, orders_items]"
   ]
  },
  {
   "cell_type": "code",
   "execution_count": 6,
   "id": "1cbb34c5",
   "metadata": {},
   "outputs": [
    {
     "name": "stdout",
     "output_type": "stream",
     "text": [
      "<class 'pandas.core.frame.DataFrame'>\n",
      "RangeIndex: 37 entries, 0 to 36\n",
      "Data columns (total 5 columns):\n",
      " #   Column    Non-Null Count  Dtype \n",
      "---  ------    --------------  ----- \n",
      " 0   item_id   37 non-null     object\n",
      " 1   category  37 non-null     object\n",
      " 2   Item      37 non-null     object\n",
      " 3   Size      37 non-null     object\n",
      " 4   Price     37 non-null     int64 \n",
      "dtypes: int64(1), object(4)\n",
      "memory usage: 1.6+ KB\n",
      "None\n",
      "------------------------------------------------------\n",
      "<class 'pandas.core.frame.DataFrame'>\n",
      "RangeIndex: 1363008 entries, 0 to 1363007\n",
      "Data columns (total 3 columns):\n",
      " #   Column      Non-Null Count    Dtype \n",
      "---  ------      --------------    ----- \n",
      " 0   order_id    1363008 non-null  int64 \n",
      " 1   time_stamp  1363008 non-null  object\n",
      " 2   status      1363008 non-null  object\n",
      "dtypes: int64(1), object(2)\n",
      "memory usage: 31.2+ MB\n",
      "None\n",
      "------------------------------------------------------\n",
      "<class 'pandas.core.frame.DataFrame'>\n",
      "RangeIndex: 454336 entries, 0 to 454335\n",
      "Data columns (total 2 columns):\n",
      " #   Column           Non-Null Count   Dtype \n",
      "---  ------           --------------   ----- \n",
      " 0   order_id         454336 non-null  int64 \n",
      " 1   order_placed_at  454336 non-null  object\n",
      "dtypes: int64(1), object(1)\n",
      "memory usage: 6.9+ MB\n",
      "None\n",
      "------------------------------------------------------\n",
      "<class 'pandas.core.frame.DataFrame'>\n",
      "RangeIndex: 454336 entries, 0 to 454335\n",
      "Data columns (total 2 columns):\n",
      " #   Column         Non-Null Count   Dtype \n",
      "---  ------         --------------   ----- \n",
      " 0   order_id       454336 non-null  int64 \n",
      " 1   items_ordered  454336 non-null  object\n",
      "dtypes: int64(1), object(1)\n",
      "memory usage: 6.9+ MB\n",
      "None\n",
      "------------------------------------------------------\n"
     ]
    }
   ],
   "source": [
    "for i in frames:\n",
    "    print(i.info())\n",
    "    print(\"------------------------------------------------------\")"
   ]
  },
  {
   "cell_type": "markdown",
   "id": "7360a994",
   "metadata": {},
   "source": [
    "## Satistics for Product Dataframe"
   ]
  },
  {
   "cell_type": "code",
   "execution_count": 7,
   "id": "78e142c8",
   "metadata": {},
   "outputs": [
    {
     "data": {
      "text/html": [
       "<div>\n",
       "<style scoped>\n",
       "    .dataframe tbody tr th:only-of-type {\n",
       "        vertical-align: middle;\n",
       "    }\n",
       "\n",
       "    .dataframe tbody tr th {\n",
       "        vertical-align: top;\n",
       "    }\n",
       "\n",
       "    .dataframe thead th {\n",
       "        text-align: right;\n",
       "    }\n",
       "</style>\n",
       "<table border=\"1\" class=\"dataframe\">\n",
       "  <thead>\n",
       "    <tr style=\"text-align: right;\">\n",
       "      <th></th>\n",
       "      <th>item_id</th>\n",
       "      <th>category</th>\n",
       "      <th>Item</th>\n",
       "      <th>Size</th>\n",
       "      <th>Price</th>\n",
       "    </tr>\n",
       "  </thead>\n",
       "  <tbody>\n",
       "    <tr>\n",
       "      <th>0</th>\n",
       "      <td>p_001</td>\n",
       "      <td>Veg</td>\n",
       "      <td>Margherita</td>\n",
       "      <td>Regular</td>\n",
       "      <td>109</td>\n",
       "    </tr>\n",
       "    <tr>\n",
       "      <th>1</th>\n",
       "      <td>p_002</td>\n",
       "      <td>Veg</td>\n",
       "      <td>Margherita</td>\n",
       "      <td>Medium</td>\n",
       "      <td>245</td>\n",
       "    </tr>\n",
       "    <tr>\n",
       "      <th>2</th>\n",
       "      <td>p_003</td>\n",
       "      <td>Veg</td>\n",
       "      <td>Margherita</td>\n",
       "      <td>Large</td>\n",
       "      <td>455</td>\n",
       "    </tr>\n",
       "    <tr>\n",
       "      <th>3</th>\n",
       "      <td>p_004</td>\n",
       "      <td>Veg</td>\n",
       "      <td>Double Cheese Margherita</td>\n",
       "      <td>Regular</td>\n",
       "      <td>215</td>\n",
       "    </tr>\n",
       "    <tr>\n",
       "      <th>4</th>\n",
       "      <td>p_005</td>\n",
       "      <td>Veg</td>\n",
       "      <td>Double Cheese Margherita</td>\n",
       "      <td>Medium</td>\n",
       "      <td>385</td>\n",
       "    </tr>\n",
       "    <tr>\n",
       "      <th>5</th>\n",
       "      <td>p_006</td>\n",
       "      <td>Veg</td>\n",
       "      <td>Double Cheese Margherita</td>\n",
       "      <td>Large</td>\n",
       "      <td>619</td>\n",
       "    </tr>\n",
       "    <tr>\n",
       "      <th>6</th>\n",
       "      <td>p_007</td>\n",
       "      <td>Veg</td>\n",
       "      <td>Farm House</td>\n",
       "      <td>Regular</td>\n",
       "      <td>265</td>\n",
       "    </tr>\n",
       "    <tr>\n",
       "      <th>7</th>\n",
       "      <td>p_008</td>\n",
       "      <td>Veg</td>\n",
       "      <td>Farm House</td>\n",
       "      <td>Medium</td>\n",
       "      <td>469</td>\n",
       "    </tr>\n",
       "    <tr>\n",
       "      <th>8</th>\n",
       "      <td>p_009</td>\n",
       "      <td>Veg</td>\n",
       "      <td>Farm House</td>\n",
       "      <td>Large</td>\n",
       "      <td>705</td>\n",
       "    </tr>\n",
       "    <tr>\n",
       "      <th>9</th>\n",
       "      <td>p_010</td>\n",
       "      <td>Veg</td>\n",
       "      <td>Deluxe Veggie</td>\n",
       "      <td>Regular</td>\n",
       "      <td>219</td>\n",
       "    </tr>\n",
       "    <tr>\n",
       "      <th>10</th>\n",
       "      <td>p_011</td>\n",
       "      <td>Veg</td>\n",
       "      <td>Deluxe Veggie</td>\n",
       "      <td>Medium</td>\n",
       "      <td>385</td>\n",
       "    </tr>\n",
       "    <tr>\n",
       "      <th>11</th>\n",
       "      <td>p_012</td>\n",
       "      <td>Veg</td>\n",
       "      <td>Deluxe Veggie</td>\n",
       "      <td>Large</td>\n",
       "      <td>619</td>\n",
       "    </tr>\n",
       "    <tr>\n",
       "      <th>12</th>\n",
       "      <td>p_013</td>\n",
       "      <td>Veg</td>\n",
       "      <td>Cheese N Corn</td>\n",
       "      <td>Regular</td>\n",
       "      <td>179</td>\n",
       "    </tr>\n",
       "    <tr>\n",
       "      <th>13</th>\n",
       "      <td>p_014</td>\n",
       "      <td>Veg</td>\n",
       "      <td>Cheese N Corn</td>\n",
       "      <td>Medium</td>\n",
       "      <td>319</td>\n",
       "    </tr>\n",
       "    <tr>\n",
       "      <th>14</th>\n",
       "      <td>p_015</td>\n",
       "      <td>Veg</td>\n",
       "      <td>Cheese N Corn</td>\n",
       "      <td>Large</td>\n",
       "      <td>519</td>\n",
       "    </tr>\n",
       "    <tr>\n",
       "      <th>15</th>\n",
       "      <td>p_016</td>\n",
       "      <td>Veg</td>\n",
       "      <td>Indi Tandoori Paneer</td>\n",
       "      <td>Regular</td>\n",
       "      <td>305</td>\n",
       "    </tr>\n",
       "    <tr>\n",
       "      <th>16</th>\n",
       "      <td>p_017</td>\n",
       "      <td>Veg</td>\n",
       "      <td>Indi Tandoori Paneer</td>\n",
       "      <td>Medium</td>\n",
       "      <td>559</td>\n",
       "    </tr>\n",
       "    <tr>\n",
       "      <th>17</th>\n",
       "      <td>p_018</td>\n",
       "      <td>Veg</td>\n",
       "      <td>Indi Tandoori Paneer</td>\n",
       "      <td>Large</td>\n",
       "      <td>815</td>\n",
       "    </tr>\n",
       "    <tr>\n",
       "      <th>18</th>\n",
       "      <td>p_019</td>\n",
       "      <td>Non Veg</td>\n",
       "      <td>Chicken Golden Delight</td>\n",
       "      <td>Regular</td>\n",
       "      <td>279</td>\n",
       "    </tr>\n",
       "    <tr>\n",
       "      <th>19</th>\n",
       "      <td>p_020</td>\n",
       "      <td>Non Veg</td>\n",
       "      <td>Chicken Golden Delight</td>\n",
       "      <td>Medium</td>\n",
       "      <td>499</td>\n",
       "    </tr>\n",
       "    <tr>\n",
       "      <th>20</th>\n",
       "      <td>p_021</td>\n",
       "      <td>Non Veg</td>\n",
       "      <td>Chicken Golden Delight</td>\n",
       "      <td>Large</td>\n",
       "      <td>729</td>\n",
       "    </tr>\n",
       "    <tr>\n",
       "      <th>21</th>\n",
       "      <td>p_022</td>\n",
       "      <td>Non Veg</td>\n",
       "      <td>Non Veg Supreme</td>\n",
       "      <td>Regular</td>\n",
       "      <td>365</td>\n",
       "    </tr>\n",
       "    <tr>\n",
       "      <th>22</th>\n",
       "      <td>p_023</td>\n",
       "      <td>Non Veg</td>\n",
       "      <td>Non Veg Supreme</td>\n",
       "      <td>Medium</td>\n",
       "      <td>609</td>\n",
       "    </tr>\n",
       "    <tr>\n",
       "      <th>23</th>\n",
       "      <td>p_024</td>\n",
       "      <td>Non Veg</td>\n",
       "      <td>Non Veg Supreme</td>\n",
       "      <td>Large</td>\n",
       "      <td>935</td>\n",
       "    </tr>\n",
       "    <tr>\n",
       "      <th>24</th>\n",
       "      <td>p_025</td>\n",
       "      <td>Non Veg</td>\n",
       "      <td>Chicken Dominator</td>\n",
       "      <td>Regular</td>\n",
       "      <td>365</td>\n",
       "    </tr>\n",
       "    <tr>\n",
       "      <th>25</th>\n",
       "      <td>p_026</td>\n",
       "      <td>Non Veg</td>\n",
       "      <td>Chicken Dominator</td>\n",
       "      <td>Medium</td>\n",
       "      <td>609</td>\n",
       "    </tr>\n",
       "    <tr>\n",
       "      <th>26</th>\n",
       "      <td>p_027</td>\n",
       "      <td>Non Veg</td>\n",
       "      <td>Chicken Dominator</td>\n",
       "      <td>Large</td>\n",
       "      <td>935</td>\n",
       "    </tr>\n",
       "    <tr>\n",
       "      <th>27</th>\n",
       "      <td>p_028</td>\n",
       "      <td>Non Veg</td>\n",
       "      <td>Pepper Barbecue Chicken</td>\n",
       "      <td>Regular</td>\n",
       "      <td>239</td>\n",
       "    </tr>\n",
       "    <tr>\n",
       "      <th>28</th>\n",
       "      <td>p_029</td>\n",
       "      <td>Non Veg</td>\n",
       "      <td>Pepper Barbecue Chicken</td>\n",
       "      <td>Medium</td>\n",
       "      <td>419</td>\n",
       "    </tr>\n",
       "    <tr>\n",
       "      <th>29</th>\n",
       "      <td>p_030</td>\n",
       "      <td>Non Veg</td>\n",
       "      <td>Pepper Barbecue Chicken</td>\n",
       "      <td>Large</td>\n",
       "      <td>629</td>\n",
       "    </tr>\n",
       "    <tr>\n",
       "      <th>30</th>\n",
       "      <td>p_031</td>\n",
       "      <td>Non Veg</td>\n",
       "      <td>Indi Chicken Tikka</td>\n",
       "      <td>Regular</td>\n",
       "      <td>339</td>\n",
       "    </tr>\n",
       "    <tr>\n",
       "      <th>31</th>\n",
       "      <td>p_032</td>\n",
       "      <td>Non Veg</td>\n",
       "      <td>Indi Chicken Tikka</td>\n",
       "      <td>Medium</td>\n",
       "      <td>599</td>\n",
       "    </tr>\n",
       "    <tr>\n",
       "      <th>32</th>\n",
       "      <td>p_033</td>\n",
       "      <td>Non Veg</td>\n",
       "      <td>Indi Chicken Tikka</td>\n",
       "      <td>Large</td>\n",
       "      <td>879</td>\n",
       "    </tr>\n",
       "    <tr>\n",
       "      <th>33</th>\n",
       "      <td>p_034</td>\n",
       "      <td>Non Veg</td>\n",
       "      <td>Chicken Pepperoni</td>\n",
       "      <td>Regular</td>\n",
       "      <td>365</td>\n",
       "    </tr>\n",
       "    <tr>\n",
       "      <th>34</th>\n",
       "      <td>p_035</td>\n",
       "      <td>Non Veg</td>\n",
       "      <td>Chicken Pepperoni</td>\n",
       "      <td>Medium</td>\n",
       "      <td>609</td>\n",
       "    </tr>\n",
       "    <tr>\n",
       "      <th>35</th>\n",
       "      <td>p_036</td>\n",
       "      <td>Non Veg</td>\n",
       "      <td>Chicken Pepperoni</td>\n",
       "      <td>Large</td>\n",
       "      <td>935</td>\n",
       "    </tr>\n",
       "    <tr>\n",
       "      <th>36</th>\n",
       "      <td>p_037</td>\n",
       "      <td>Veg</td>\n",
       "      <td>Coke</td>\n",
       "      <td>Regular</td>\n",
       "      <td>71</td>\n",
       "    </tr>\n",
       "  </tbody>\n",
       "</table>\n",
       "</div>"
      ],
      "text/plain": [
       "   item_id category                      Item     Size  Price\n",
       "0    p_001      Veg                Margherita  Regular    109\n",
       "1    p_002      Veg                Margherita   Medium    245\n",
       "2    p_003      Veg                Margherita    Large    455\n",
       "3    p_004      Veg  Double Cheese Margherita  Regular    215\n",
       "4    p_005      Veg  Double Cheese Margherita   Medium    385\n",
       "5    p_006      Veg  Double Cheese Margherita    Large    619\n",
       "6    p_007      Veg                Farm House  Regular    265\n",
       "7    p_008      Veg                Farm House   Medium    469\n",
       "8    p_009      Veg                Farm House    Large    705\n",
       "9    p_010      Veg             Deluxe Veggie  Regular    219\n",
       "10   p_011      Veg             Deluxe Veggie   Medium    385\n",
       "11   p_012      Veg             Deluxe Veggie    Large    619\n",
       "12   p_013      Veg             Cheese N Corn  Regular    179\n",
       "13   p_014      Veg             Cheese N Corn   Medium    319\n",
       "14   p_015      Veg             Cheese N Corn    Large    519\n",
       "15   p_016      Veg      Indi Tandoori Paneer  Regular    305\n",
       "16   p_017      Veg      Indi Tandoori Paneer   Medium    559\n",
       "17   p_018      Veg      Indi Tandoori Paneer    Large    815\n",
       "18   p_019  Non Veg    Chicken Golden Delight  Regular    279\n",
       "19   p_020  Non Veg    Chicken Golden Delight   Medium    499\n",
       "20   p_021  Non Veg    Chicken Golden Delight    Large    729\n",
       "21   p_022  Non Veg           Non Veg Supreme  Regular    365\n",
       "22   p_023  Non Veg           Non Veg Supreme   Medium    609\n",
       "23   p_024  Non Veg           Non Veg Supreme    Large    935\n",
       "24   p_025  Non Veg         Chicken Dominator  Regular    365\n",
       "25   p_026  Non Veg         Chicken Dominator   Medium    609\n",
       "26   p_027  Non Veg         Chicken Dominator    Large    935\n",
       "27   p_028  Non Veg   Pepper Barbecue Chicken  Regular    239\n",
       "28   p_029  Non Veg   Pepper Barbecue Chicken   Medium    419\n",
       "29   p_030  Non Veg   Pepper Barbecue Chicken    Large    629\n",
       "30   p_031  Non Veg        Indi Chicken Tikka  Regular    339\n",
       "31   p_032  Non Veg        Indi Chicken Tikka   Medium    599\n",
       "32   p_033  Non Veg        Indi Chicken Tikka    Large    879\n",
       "33   p_034  Non Veg         Chicken Pepperoni  Regular    365\n",
       "34   p_035  Non Veg         Chicken Pepperoni   Medium    609\n",
       "35   p_036  Non Veg         Chicken Pepperoni    Large    935\n",
       "36   p_037      Veg                      Coke  Regular     71"
      ]
     },
     "execution_count": 7,
     "metadata": {},
     "output_type": "execute_result"
    }
   ],
   "source": [
    "product"
   ]
  },
  {
   "cell_type": "code",
   "execution_count": 8,
   "id": "bfc1cbf8",
   "metadata": {},
   "outputs": [
    {
     "data": {
      "text/html": [
       "<div>\n",
       "<style scoped>\n",
       "    .dataframe tbody tr th:only-of-type {\n",
       "        vertical-align: middle;\n",
       "    }\n",
       "\n",
       "    .dataframe tbody tr th {\n",
       "        vertical-align: top;\n",
       "    }\n",
       "\n",
       "    .dataframe thead th {\n",
       "        text-align: right;\n",
       "    }\n",
       "</style>\n",
       "<table border=\"1\" class=\"dataframe\">\n",
       "  <thead>\n",
       "    <tr style=\"text-align: right;\">\n",
       "      <th></th>\n",
       "      <th>item_id</th>\n",
       "      <th>category</th>\n",
       "      <th>Item</th>\n",
       "      <th>Size</th>\n",
       "      <th>Price</th>\n",
       "    </tr>\n",
       "  </thead>\n",
       "  <tbody>\n",
       "    <tr>\n",
       "      <th>count</th>\n",
       "      <td>37</td>\n",
       "      <td>37</td>\n",
       "      <td>37</td>\n",
       "      <td>37</td>\n",
       "      <td>37.000000</td>\n",
       "    </tr>\n",
       "    <tr>\n",
       "      <th>unique</th>\n",
       "      <td>37</td>\n",
       "      <td>2</td>\n",
       "      <td>13</td>\n",
       "      <td>3</td>\n",
       "      <td>NaN</td>\n",
       "    </tr>\n",
       "    <tr>\n",
       "      <th>top</th>\n",
       "      <td>p_001</td>\n",
       "      <td>Veg</td>\n",
       "      <td>Margherita</td>\n",
       "      <td>Regular</td>\n",
       "      <td>NaN</td>\n",
       "    </tr>\n",
       "    <tr>\n",
       "      <th>freq</th>\n",
       "      <td>1</td>\n",
       "      <td>19</td>\n",
       "      <td>3</td>\n",
       "      <td>13</td>\n",
       "      <td>NaN</td>\n",
       "    </tr>\n",
       "    <tr>\n",
       "      <th>mean</th>\n",
       "      <td>NaN</td>\n",
       "      <td>NaN</td>\n",
       "      <td>NaN</td>\n",
       "      <td>NaN</td>\n",
       "      <td>480.945946</td>\n",
       "    </tr>\n",
       "    <tr>\n",
       "      <th>std</th>\n",
       "      <td>NaN</td>\n",
       "      <td>NaN</td>\n",
       "      <td>NaN</td>\n",
       "      <td>NaN</td>\n",
       "      <td>236.323924</td>\n",
       "    </tr>\n",
       "    <tr>\n",
       "      <th>min</th>\n",
       "      <td>NaN</td>\n",
       "      <td>NaN</td>\n",
       "      <td>NaN</td>\n",
       "      <td>NaN</td>\n",
       "      <td>71.000000</td>\n",
       "    </tr>\n",
       "    <tr>\n",
       "      <th>25%</th>\n",
       "      <td>NaN</td>\n",
       "      <td>NaN</td>\n",
       "      <td>NaN</td>\n",
       "      <td>NaN</td>\n",
       "      <td>305.000000</td>\n",
       "    </tr>\n",
       "    <tr>\n",
       "      <th>50%</th>\n",
       "      <td>NaN</td>\n",
       "      <td>NaN</td>\n",
       "      <td>NaN</td>\n",
       "      <td>NaN</td>\n",
       "      <td>455.000000</td>\n",
       "    </tr>\n",
       "    <tr>\n",
       "      <th>75%</th>\n",
       "      <td>NaN</td>\n",
       "      <td>NaN</td>\n",
       "      <td>NaN</td>\n",
       "      <td>NaN</td>\n",
       "      <td>619.000000</td>\n",
       "    </tr>\n",
       "    <tr>\n",
       "      <th>max</th>\n",
       "      <td>NaN</td>\n",
       "      <td>NaN</td>\n",
       "      <td>NaN</td>\n",
       "      <td>NaN</td>\n",
       "      <td>935.000000</td>\n",
       "    </tr>\n",
       "  </tbody>\n",
       "</table>\n",
       "</div>"
      ],
      "text/plain": [
       "       item_id category        Item     Size       Price\n",
       "count       37       37          37       37   37.000000\n",
       "unique      37        2          13        3         NaN\n",
       "top      p_001      Veg  Margherita  Regular         NaN\n",
       "freq         1       19           3       13         NaN\n",
       "mean       NaN      NaN         NaN      NaN  480.945946\n",
       "std        NaN      NaN         NaN      NaN  236.323924\n",
       "min        NaN      NaN         NaN      NaN   71.000000\n",
       "25%        NaN      NaN         NaN      NaN  305.000000\n",
       "50%        NaN      NaN         NaN      NaN  455.000000\n",
       "75%        NaN      NaN         NaN      NaN  619.000000\n",
       "max        NaN      NaN         NaN      NaN  935.000000"
      ]
     },
     "execution_count": 8,
     "metadata": {},
     "output_type": "execute_result"
    }
   ],
   "source": [
    "product.describe(include='all')"
   ]
  },
  {
   "cell_type": "code",
   "execution_count": 9,
   "id": "e485ab1e",
   "metadata": {},
   "outputs": [
    {
     "data": {
      "text/plain": [
       "category\n",
       "Veg        19\n",
       "Non Veg    18\n",
       "Name: count, dtype: int64"
      ]
     },
     "execution_count": 9,
     "metadata": {},
     "output_type": "execute_result"
    }
   ],
   "source": [
    "#No of veg and non-veg items\n",
    "product['category'].value_counts()"
   ]
  },
  {
   "cell_type": "code",
   "execution_count": 10,
   "id": "8a819c83",
   "metadata": {},
   "outputs": [
    {
     "data": {
      "text/plain": [
       "array(['Margherita', 'Double Cheese Margherita', 'Farm House',\n",
       "       'Deluxe Veggie', 'Cheese N Corn', 'Indi Tandoori Paneer',\n",
       "       'Chicken Golden Delight', 'Non Veg Supreme', 'Chicken Dominator',\n",
       "       'Pepper Barbecue Chicken', 'Indi Chicken Tikka',\n",
       "       'Chicken Pepperoni', 'Coke'], dtype=object)"
      ]
     },
     "execution_count": 10,
     "metadata": {},
     "output_type": "execute_result"
    }
   ],
   "source": [
    "#different types of Pizza items available in the store\n",
    "product['Item'].unique()"
   ]
  },
  {
   "cell_type": "code",
   "execution_count": 11,
   "id": "5a279891",
   "metadata": {},
   "outputs": [
    {
     "name": "stderr",
     "output_type": "stream",
     "text": [
      "C:\\Users\\K Tarun\\anaconda3\\Lib\\site-packages\\seaborn\\axisgrid.py:118: UserWarning: The figure layout has changed to tight\n",
      "  self._figure.tight_layout(*args, **kwargs)\n"
     ]
    },
    {
     "data": {
      "text/plain": [
       "<seaborn.axisgrid.FacetGrid at 0x19eccc74f50>"
      ]
     },
     "execution_count": 11,
     "metadata": {},
     "output_type": "execute_result"
    },
    {
     "data": {
      "image/png": "[encoded data removed]",
      "text/plain": [
       "<Figure size 500x500 with 1 Axes>"
      ]
     },
     "metadata": {},
     "output_type": "display_data"
    }
   ],
   "source": [
    "#Price range of items available\n",
    "sns.displot(product['Price'], kde= True)"
   ]
  },
  {
   "cell_type": "code",
   "execution_count": 12,
   "id": "9d7f9980",
   "metadata": {},
   "outputs": [
    {
     "data": {
      "text/plain": [
       "{'Large', 'Medium', 'Regular'}"
      ]
     },
     "execution_count": 12,
     "metadata": {},
     "output_type": "execute_result"
    }
   ],
   "source": [
    "#different sizes of pizzas available\n",
    "set(product['Size'])"
   ]
  },
  {
   "cell_type": "markdown",
   "id": "59a78f67",
   "metadata": {},
   "source": [
    "## Statistics of Deliveries dataframe"
   ]
  },
  {
   "cell_type": "code",
   "execution_count": 13,
   "id": "c6a15e0d",
   "metadata": {},
   "outputs": [
    {
     "data": {
      "text/html": [
       "<div>\n",
       "<style scoped>\n",
       "    .dataframe tbody tr th:only-of-type {\n",
       "        vertical-align: middle;\n",
       "    }\n",
       "\n",
       "    .dataframe tbody tr th {\n",
       "        vertical-align: top;\n",
       "    }\n",
       "\n",
       "    .dataframe thead th {\n",
       "        text-align: right;\n",
       "    }\n",
       "</style>\n",
       "<table border=\"1\" class=\"dataframe\">\n",
       "  <thead>\n",
       "    <tr style=\"text-align: right;\">\n",
       "      <th></th>\n",
       "      <th>order_id</th>\n",
       "      <th>time_stamp</th>\n",
       "      <th>status</th>\n",
       "    </tr>\n",
       "  </thead>\n",
       "  <tbody>\n",
       "    <tr>\n",
       "      <th>0</th>\n",
       "      <td>321230114</td>\n",
       "      <td>2020-12-11 00:01:29.000000000</td>\n",
       "      <td>Pending</td>\n",
       "    </tr>\n",
       "    <tr>\n",
       "      <th>1</th>\n",
       "      <td>321230114</td>\n",
       "      <td>2020-12-11 00:06:29.000000000</td>\n",
       "      <td>Out For Delivery</td>\n",
       "    </tr>\n",
       "    <tr>\n",
       "      <th>2</th>\n",
       "      <td>321230114</td>\n",
       "      <td>2020-12-11 00:19:13.299151076</td>\n",
       "      <td>Delivered</td>\n",
       "    </tr>\n",
       "    <tr>\n",
       "      <th>3</th>\n",
       "      <td>321230115</td>\n",
       "      <td>2020-12-11 00:36:02.000000000</td>\n",
       "      <td>Pending</td>\n",
       "    </tr>\n",
       "    <tr>\n",
       "      <th>4</th>\n",
       "      <td>321230115</td>\n",
       "      <td>2020-12-11 00:41:02.000000000</td>\n",
       "      <td>Out For Delivery</td>\n",
       "    </tr>\n",
       "    <tr>\n",
       "      <th>...</th>\n",
       "      <td>...</td>\n",
       "      <td>...</td>\n",
       "      <td>...</td>\n",
       "    </tr>\n",
       "    <tr>\n",
       "      <th>1363003</th>\n",
       "      <td>321684446</td>\n",
       "      <td>2024-01-31 23:58:08.494812502</td>\n",
       "      <td>Delivered</td>\n",
       "    </tr>\n",
       "    <tr>\n",
       "      <th>1363004</th>\n",
       "      <td>321684449</td>\n",
       "      <td>2024-02-01 00:00:46.000000000</td>\n",
       "      <td>Out For Delivery</td>\n",
       "    </tr>\n",
       "    <tr>\n",
       "      <th>1363005</th>\n",
       "      <td>321684448</td>\n",
       "      <td>2024-02-01 00:03:05.000000000</td>\n",
       "      <td>Out For Delivery</td>\n",
       "    </tr>\n",
       "    <tr>\n",
       "      <th>1363006</th>\n",
       "      <td>321684449</td>\n",
       "      <td>2024-02-01 00:14:56.997433391</td>\n",
       "      <td>Delivered</td>\n",
       "    </tr>\n",
       "    <tr>\n",
       "      <th>1363007</th>\n",
       "      <td>321684448</td>\n",
       "      <td>2024-02-01 00:17:50.996900711</td>\n",
       "      <td>Delivered</td>\n",
       "    </tr>\n",
       "  </tbody>\n",
       "</table>\n",
       "<p>1363008 rows × 3 columns</p>\n",
       "</div>"
      ],
      "text/plain": [
       "          order_id                     time_stamp            status\n",
       "0        321230114  2020-12-11 00:01:29.000000000           Pending\n",
       "1        321230114  2020-12-11 00:06:29.000000000  Out For Delivery\n",
       "2        321230114  2020-12-11 00:19:13.299151076         Delivered\n",
       "3        321230115  2020-12-11 00:36:02.000000000           Pending\n",
       "4        321230115  2020-12-11 00:41:02.000000000  Out For Delivery\n",
       "...            ...                            ...               ...\n",
       "1363003  321684446  2024-01-31 23:58:08.494812502         Delivered\n",
       "1363004  321684449  2024-02-01 00:00:46.000000000  Out For Delivery\n",
       "1363005  321684448  2024-02-01 00:03:05.000000000  Out For Delivery\n",
       "1363006  321684449  2024-02-01 00:14:56.997433391         Delivered\n",
       "1363007  321684448  2024-02-01 00:17:50.996900711         Delivered\n",
       "\n",
       "[1363008 rows x 3 columns]"
      ]
     },
     "execution_count": 13,
     "metadata": {},
     "output_type": "execute_result"
    }
   ],
   "source": [
    "deliveries"
   ]
  },
  {
   "cell_type": "code",
   "execution_count": 14,
   "id": "c0adbddd",
   "metadata": {},
   "outputs": [],
   "source": [
    "#converting string to time column\n",
    "deliveries['time_stamp'] = pd.to_datetime(deliveries['time_stamp'], format='%Y-%m-%d %H:%M:%S.%f')"
   ]
  },
  {
   "cell_type": "code",
   "execution_count": 15,
   "id": "1461c042",
   "metadata": {},
   "outputs": [
    {
     "data": {
      "text/html": [
       "<div>\n",
       "<style scoped>\n",
       "    .dataframe tbody tr th:only-of-type {\n",
       "        vertical-align: middle;\n",
       "    }\n",
       "\n",
       "    .dataframe tbody tr th {\n",
       "        vertical-align: top;\n",
       "    }\n",
       "\n",
       "    .dataframe thead th {\n",
       "        text-align: right;\n",
       "    }\n",
       "</style>\n",
       "<table border=\"1\" class=\"dataframe\">\n",
       "  <thead>\n",
       "    <tr style=\"text-align: right;\">\n",
       "      <th></th>\n",
       "      <th>order_id</th>\n",
       "      <th>time_stamp</th>\n",
       "      <th>status</th>\n",
       "    </tr>\n",
       "  </thead>\n",
       "  <tbody>\n",
       "    <tr>\n",
       "      <th>0</th>\n",
       "      <td>321230114</td>\n",
       "      <td>2020-12-11 00:01:29.000000000</td>\n",
       "      <td>Pending</td>\n",
       "    </tr>\n",
       "    <tr>\n",
       "      <th>1</th>\n",
       "      <td>321230114</td>\n",
       "      <td>2020-12-11 00:06:29.000000000</td>\n",
       "      <td>Out For Delivery</td>\n",
       "    </tr>\n",
       "    <tr>\n",
       "      <th>2</th>\n",
       "      <td>321230114</td>\n",
       "      <td>2020-12-11 00:19:13.299151076</td>\n",
       "      <td>Delivered</td>\n",
       "    </tr>\n",
       "    <tr>\n",
       "      <th>3</th>\n",
       "      <td>321230115</td>\n",
       "      <td>2020-12-11 00:36:02.000000000</td>\n",
       "      <td>Pending</td>\n",
       "    </tr>\n",
       "    <tr>\n",
       "      <th>4</th>\n",
       "      <td>321230115</td>\n",
       "      <td>2020-12-11 00:41:02.000000000</td>\n",
       "      <td>Out For Delivery</td>\n",
       "    </tr>\n",
       "    <tr>\n",
       "      <th>...</th>\n",
       "      <td>...</td>\n",
       "      <td>...</td>\n",
       "      <td>...</td>\n",
       "    </tr>\n",
       "    <tr>\n",
       "      <th>1363003</th>\n",
       "      <td>321684446</td>\n",
       "      <td>2024-01-31 23:58:08.494812502</td>\n",
       "      <td>Delivered</td>\n",
       "    </tr>\n",
       "    <tr>\n",
       "      <th>1363004</th>\n",
       "      <td>321684449</td>\n",
       "      <td>2024-02-01 00:00:46.000000000</td>\n",
       "      <td>Out For Delivery</td>\n",
       "    </tr>\n",
       "    <tr>\n",
       "      <th>1363005</th>\n",
       "      <td>321684448</td>\n",
       "      <td>2024-02-01 00:03:05.000000000</td>\n",
       "      <td>Out For Delivery</td>\n",
       "    </tr>\n",
       "    <tr>\n",
       "      <th>1363006</th>\n",
       "      <td>321684449</td>\n",
       "      <td>2024-02-01 00:14:56.997433391</td>\n",
       "      <td>Delivered</td>\n",
       "    </tr>\n",
       "    <tr>\n",
       "      <th>1363007</th>\n",
       "      <td>321684448</td>\n",
       "      <td>2024-02-01 00:17:50.996900711</td>\n",
       "      <td>Delivered</td>\n",
       "    </tr>\n",
       "  </tbody>\n",
       "</table>\n",
       "<p>1363008 rows × 3 columns</p>\n",
       "</div>"
      ],
      "text/plain": [
       "          order_id                    time_stamp            status\n",
       "0        321230114 2020-12-11 00:01:29.000000000           Pending\n",
       "1        321230114 2020-12-11 00:06:29.000000000  Out For Delivery\n",
       "2        321230114 2020-12-11 00:19:13.299151076         Delivered\n",
       "3        321230115 2020-12-11 00:36:02.000000000           Pending\n",
       "4        321230115 2020-12-11 00:41:02.000000000  Out For Delivery\n",
       "...            ...                           ...               ...\n",
       "1363003  321684446 2024-01-31 23:58:08.494812502         Delivered\n",
       "1363004  321684449 2024-02-01 00:00:46.000000000  Out For Delivery\n",
       "1363005  321684448 2024-02-01 00:03:05.000000000  Out For Delivery\n",
       "1363006  321684449 2024-02-01 00:14:56.997433391         Delivered\n",
       "1363007  321684448 2024-02-01 00:17:50.996900711         Delivered\n",
       "\n",
       "[1363008 rows x 3 columns]"
      ]
     },
     "execution_count": 15,
     "metadata": {},
     "output_type": "execute_result"
    }
   ],
   "source": [
    "deliveries.sort_values(by='time_stamp').reset_index(drop=True)"
   ]
  },
  {
   "cell_type": "code",
   "execution_count": 16,
   "id": "a64ed071",
   "metadata": {},
   "outputs": [
    {
     "data": {
      "text/plain": [
       "array(['Pending', 'Out For Delivery', 'Delivered'], dtype=object)"
      ]
     },
     "execution_count": 16,
     "metadata": {},
     "output_type": "execute_result"
    }
   ],
   "source": [
    "#different types of status available in dataframe\n",
    "deliveries['status'].unique()"
   ]
  },
  {
   "cell_type": "markdown",
   "id": "6d009059",
   "metadata": {},
   "source": [
    "## Statistics for orders dataframe"
   ]
  },
  {
   "cell_type": "code",
   "execution_count": 17,
   "id": "4b28e3b2",
   "metadata": {},
   "outputs": [
    {
     "data": {
      "text/html": [
       "<div>\n",
       "<style scoped>\n",
       "    .dataframe tbody tr th:only-of-type {\n",
       "        vertical-align: middle;\n",
       "    }\n",
       "\n",
       "    .dataframe tbody tr th {\n",
       "        vertical-align: top;\n",
       "    }\n",
       "\n",
       "    .dataframe thead th {\n",
       "        text-align: right;\n",
       "    }\n",
       "</style>\n",
       "<table border=\"1\" class=\"dataframe\">\n",
       "  <thead>\n",
       "    <tr style=\"text-align: right;\">\n",
       "      <th></th>\n",
       "      <th>order_id</th>\n",
       "      <th>order_placed_at</th>\n",
       "    </tr>\n",
       "  </thead>\n",
       "  <tbody>\n",
       "    <tr>\n",
       "      <th>0</th>\n",
       "      <td>321230114</td>\n",
       "      <td>2020-12-11 00:01:29</td>\n",
       "    </tr>\n",
       "    <tr>\n",
       "      <th>1</th>\n",
       "      <td>321230115</td>\n",
       "      <td>2020-12-11 00:36:02</td>\n",
       "    </tr>\n",
       "    <tr>\n",
       "      <th>2</th>\n",
       "      <td>321230116</td>\n",
       "      <td>2020-12-11 00:55:01</td>\n",
       "    </tr>\n",
       "    <tr>\n",
       "      <th>3</th>\n",
       "      <td>321230117</td>\n",
       "      <td>2020-12-11 01:05:27</td>\n",
       "    </tr>\n",
       "    <tr>\n",
       "      <th>4</th>\n",
       "      <td>321230118</td>\n",
       "      <td>2020-12-11 01:14:20</td>\n",
       "    </tr>\n",
       "    <tr>\n",
       "      <th>...</th>\n",
       "      <td>...</td>\n",
       "      <td>...</td>\n",
       "    </tr>\n",
       "    <tr>\n",
       "      <th>454331</th>\n",
       "      <td>321684445</td>\n",
       "      <td>2024-01-31 23:27:51</td>\n",
       "    </tr>\n",
       "    <tr>\n",
       "      <th>454332</th>\n",
       "      <td>321684446</td>\n",
       "      <td>2024-01-31 23:40:14</td>\n",
       "    </tr>\n",
       "    <tr>\n",
       "      <th>454333</th>\n",
       "      <td>321684447</td>\n",
       "      <td>2024-01-31 23:36:08</td>\n",
       "    </tr>\n",
       "    <tr>\n",
       "      <th>454334</th>\n",
       "      <td>321684448</td>\n",
       "      <td>2024-01-31 23:58:05</td>\n",
       "    </tr>\n",
       "    <tr>\n",
       "      <th>454335</th>\n",
       "      <td>321684449</td>\n",
       "      <td>2024-01-31 23:55:46</td>\n",
       "    </tr>\n",
       "  </tbody>\n",
       "</table>\n",
       "<p>454336 rows × 2 columns</p>\n",
       "</div>"
      ],
      "text/plain": [
       "         order_id      order_placed_at\n",
       "0       321230114  2020-12-11 00:01:29\n",
       "1       321230115  2020-12-11 00:36:02\n",
       "2       321230116  2020-12-11 00:55:01\n",
       "3       321230117  2020-12-11 01:05:27\n",
       "4       321230118  2020-12-11 01:14:20\n",
       "...           ...                  ...\n",
       "454331  321684445  2024-01-31 23:27:51\n",
       "454332  321684446  2024-01-31 23:40:14\n",
       "454333  321684447  2024-01-31 23:36:08\n",
       "454334  321684448  2024-01-31 23:58:05\n",
       "454335  321684449  2024-01-31 23:55:46\n",
       "\n",
       "[454336 rows x 2 columns]"
      ]
     },
     "execution_count": 17,
     "metadata": {},
     "output_type": "execute_result"
    }
   ],
   "source": [
    "orders"
   ]
  },
  {
   "cell_type": "code",
   "execution_count": 18,
   "id": "5e9cc374",
   "metadata": {},
   "outputs": [],
   "source": [
    "orders['order_placed_at'] = pd.to_datetime(orders['order_placed_at'], format='%Y-%m-%d %H:%M:%S')"
   ]
  },
  {
   "cell_type": "code",
   "execution_count": 19,
   "id": "ac9f33b3",
   "metadata": {},
   "outputs": [
    {
     "data": {
      "text/html": [
       "<div>\n",
       "<style scoped>\n",
       "    .dataframe tbody tr th:only-of-type {\n",
       "        vertical-align: middle;\n",
       "    }\n",
       "\n",
       "    .dataframe tbody tr th {\n",
       "        vertical-align: top;\n",
       "    }\n",
       "\n",
       "    .dataframe thead th {\n",
       "        text-align: right;\n",
       "    }\n",
       "</style>\n",
       "<table border=\"1\" class=\"dataframe\">\n",
       "  <thead>\n",
       "    <tr style=\"text-align: right;\">\n",
       "      <th></th>\n",
       "      <th>order_id</th>\n",
       "      <th>order_placed_at</th>\n",
       "    </tr>\n",
       "  </thead>\n",
       "  <tbody>\n",
       "    <tr>\n",
       "      <th>0</th>\n",
       "      <td>321230114</td>\n",
       "      <td>2020-12-11 00:01:29</td>\n",
       "    </tr>\n",
       "    <tr>\n",
       "      <th>1</th>\n",
       "      <td>321230115</td>\n",
       "      <td>2020-12-11 00:36:02</td>\n",
       "    </tr>\n",
       "    <tr>\n",
       "      <th>2</th>\n",
       "      <td>321230116</td>\n",
       "      <td>2020-12-11 00:55:01</td>\n",
       "    </tr>\n",
       "    <tr>\n",
       "      <th>3</th>\n",
       "      <td>321230117</td>\n",
       "      <td>2020-12-11 01:05:27</td>\n",
       "    </tr>\n",
       "    <tr>\n",
       "      <th>4</th>\n",
       "      <td>321230118</td>\n",
       "      <td>2020-12-11 01:14:20</td>\n",
       "    </tr>\n",
       "    <tr>\n",
       "      <th>...</th>\n",
       "      <td>...</td>\n",
       "      <td>...</td>\n",
       "    </tr>\n",
       "    <tr>\n",
       "      <th>454331</th>\n",
       "      <td>321684445</td>\n",
       "      <td>2024-01-31 23:27:51</td>\n",
       "    </tr>\n",
       "    <tr>\n",
       "      <th>454332</th>\n",
       "      <td>321684447</td>\n",
       "      <td>2024-01-31 23:36:08</td>\n",
       "    </tr>\n",
       "    <tr>\n",
       "      <th>454333</th>\n",
       "      <td>321684446</td>\n",
       "      <td>2024-01-31 23:40:14</td>\n",
       "    </tr>\n",
       "    <tr>\n",
       "      <th>454334</th>\n",
       "      <td>321684449</td>\n",
       "      <td>2024-01-31 23:55:46</td>\n",
       "    </tr>\n",
       "    <tr>\n",
       "      <th>454335</th>\n",
       "      <td>321684448</td>\n",
       "      <td>2024-01-31 23:58:05</td>\n",
       "    </tr>\n",
       "  </tbody>\n",
       "</table>\n",
       "<p>454336 rows × 2 columns</p>\n",
       "</div>"
      ],
      "text/plain": [
       "         order_id     order_placed_at\n",
       "0       321230114 2020-12-11 00:01:29\n",
       "1       321230115 2020-12-11 00:36:02\n",
       "2       321230116 2020-12-11 00:55:01\n",
       "3       321230117 2020-12-11 01:05:27\n",
       "4       321230118 2020-12-11 01:14:20\n",
       "...           ...                 ...\n",
       "454331  321684445 2024-01-31 23:27:51\n",
       "454332  321684447 2024-01-31 23:36:08\n",
       "454333  321684446 2024-01-31 23:40:14\n",
       "454334  321684449 2024-01-31 23:55:46\n",
       "454335  321684448 2024-01-31 23:58:05\n",
       "\n",
       "[454336 rows x 2 columns]"
      ]
     },
     "execution_count": 19,
     "metadata": {},
     "output_type": "execute_result"
    }
   ],
   "source": [
    "orders.sort_values(by='order_placed_at').reset_index(drop=True)"
   ]
  },
  {
   "cell_type": "code",
   "execution_count": 20,
   "id": "6bef4c00",
   "metadata": {},
   "outputs": [],
   "source": [
    "import datetime as dt"
   ]
  },
  {
   "cell_type": "code",
   "execution_count": 21,
   "id": "781ac887",
   "metadata": {},
   "outputs": [],
   "source": [
    "ord_hr = orders['order_placed_at'].dt.hour"
   ]
  },
  {
   "cell_type": "code",
   "execution_count": 22,
   "id": "5d4c8ca3",
   "metadata": {},
   "outputs": [
    {
     "data": {
      "text/plain": [
       "Text(0, 0.5, 'Sum of orders placed')"
      ]
     },
     "execution_count": 22,
     "metadata": {},
     "output_type": "execute_result"
    },
    {
     "data": {
      "image/png": "[encoded data removed]",
      "text/plain": [
       "<Figure size 640x480 with 1 Axes>"
      ]
     },
     "metadata": {},
     "output_type": "display_data"
    }
   ],
   "source": [
    "ord_hr.value_counts().plot(kind='bar')\n",
    "plt.xlabel('HOUR')\n",
    "plt.ylabel('Sum of orders placed')"
   ]
  },
  {
   "cell_type": "markdown",
   "id": "a92dc63c",
   "metadata": {},
   "source": [
    "## items Ordered"
   ]
  },
  {
   "cell_type": "code",
   "execution_count": 23,
   "id": "adaaf2d5",
   "metadata": {},
   "outputs": [
    {
     "data": {
      "text/html": [
       "<div>\n",
       "<style scoped>\n",
       "    .dataframe tbody tr th:only-of-type {\n",
       "        vertical-align: middle;\n",
       "    }\n",
       "\n",
       "    .dataframe tbody tr th {\n",
       "        vertical-align: top;\n",
       "    }\n",
       "\n",
       "    .dataframe thead th {\n",
       "        text-align: right;\n",
       "    }\n",
       "</style>\n",
       "<table border=\"1\" class=\"dataframe\">\n",
       "  <thead>\n",
       "    <tr style=\"text-align: right;\">\n",
       "      <th></th>\n",
       "      <th>order_id</th>\n",
       "      <th>items_ordered</th>\n",
       "    </tr>\n",
       "  </thead>\n",
       "  <tbody>\n",
       "    <tr>\n",
       "      <th>0</th>\n",
       "      <td>321230114</td>\n",
       "      <td>['p_025', 'p_032', 'p_037']</td>\n",
       "    </tr>\n",
       "    <tr>\n",
       "      <th>1</th>\n",
       "      <td>321230115</td>\n",
       "      <td>['p_017', 'p_012']</td>\n",
       "    </tr>\n",
       "    <tr>\n",
       "      <th>2</th>\n",
       "      <td>321230116</td>\n",
       "      <td>['p_027', 'p_037']</td>\n",
       "    </tr>\n",
       "    <tr>\n",
       "      <th>3</th>\n",
       "      <td>321230117</td>\n",
       "      <td>['p_004', 'p_029']</td>\n",
       "    </tr>\n",
       "    <tr>\n",
       "      <th>4</th>\n",
       "      <td>321230118</td>\n",
       "      <td>['p_017', 'p_037']</td>\n",
       "    </tr>\n",
       "    <tr>\n",
       "      <th>...</th>\n",
       "      <td>...</td>\n",
       "      <td>...</td>\n",
       "    </tr>\n",
       "    <tr>\n",
       "      <th>454331</th>\n",
       "      <td>321684445</td>\n",
       "      <td>['p_002', 'p_006', 'p_037']</td>\n",
       "    </tr>\n",
       "    <tr>\n",
       "      <th>454332</th>\n",
       "      <td>321684446</td>\n",
       "      <td>['p_015', 'p_013']</td>\n",
       "    </tr>\n",
       "    <tr>\n",
       "      <th>454333</th>\n",
       "      <td>321684447</td>\n",
       "      <td>['p_009', 'p_016']</td>\n",
       "    </tr>\n",
       "    <tr>\n",
       "      <th>454334</th>\n",
       "      <td>321684448</td>\n",
       "      <td>['p_007', 'p_003', 'p_037']</td>\n",
       "    </tr>\n",
       "    <tr>\n",
       "      <th>454335</th>\n",
       "      <td>321684449</td>\n",
       "      <td>['p_022', 'p_037']</td>\n",
       "    </tr>\n",
       "  </tbody>\n",
       "</table>\n",
       "<p>454336 rows × 2 columns</p>\n",
       "</div>"
      ],
      "text/plain": [
       "         order_id                items_ordered\n",
       "0       321230114  ['p_025', 'p_032', 'p_037']\n",
       "1       321230115           ['p_017', 'p_012']\n",
       "2       321230116           ['p_027', 'p_037']\n",
       "3       321230117           ['p_004', 'p_029']\n",
       "4       321230118           ['p_017', 'p_037']\n",
       "...           ...                          ...\n",
       "454331  321684445  ['p_002', 'p_006', 'p_037']\n",
       "454332  321684446           ['p_015', 'p_013']\n",
       "454333  321684447           ['p_009', 'p_016']\n",
       "454334  321684448  ['p_007', 'p_003', 'p_037']\n",
       "454335  321684449           ['p_022', 'p_037']\n",
       "\n",
       "[454336 rows x 2 columns]"
      ]
     },
     "execution_count": 23,
     "metadata": {},
     "output_type": "execute_result"
    }
   ],
   "source": [
    "orders_items"
   ]
  },
  {
   "cell_type": "markdown",
   "id": "807fa764",
   "metadata": {},
   "source": [
    "## merging two dataframes"
   ]
  },
  {
   "cell_type": "code",
   "execution_count": 24,
   "id": "7a6e41ee",
   "metadata": {},
   "outputs": [],
   "source": [
    "merge1 = pd.merge(deliveries, orders, on='order_id', how='inner')"
   ]
  },
  {
   "cell_type": "code",
   "execution_count": 25,
   "id": "14cea3eb",
   "metadata": {},
   "outputs": [
    {
     "data": {
      "text/html": [
       "<div>\n",
       "<style scoped>\n",
       "    .dataframe tbody tr th:only-of-type {\n",
       "        vertical-align: middle;\n",
       "    }\n",
       "\n",
       "    .dataframe tbody tr th {\n",
       "        vertical-align: top;\n",
       "    }\n",
       "\n",
       "    .dataframe thead th {\n",
       "        text-align: right;\n",
       "    }\n",
       "</style>\n",
       "<table border=\"1\" class=\"dataframe\">\n",
       "  <thead>\n",
       "    <tr style=\"text-align: right;\">\n",
       "      <th></th>\n",
       "      <th>order_id</th>\n",
       "      <th>time_stamp</th>\n",
       "      <th>status</th>\n",
       "      <th>order_placed_at</th>\n",
       "    </tr>\n",
       "  </thead>\n",
       "  <tbody>\n",
       "    <tr>\n",
       "      <th>0</th>\n",
       "      <td>321230114</td>\n",
       "      <td>2020-12-11 00:01:29.000000000</td>\n",
       "      <td>Pending</td>\n",
       "      <td>2020-12-11 00:01:29</td>\n",
       "    </tr>\n",
       "    <tr>\n",
       "      <th>1</th>\n",
       "      <td>321230114</td>\n",
       "      <td>2020-12-11 00:06:29.000000000</td>\n",
       "      <td>Out For Delivery</td>\n",
       "      <td>2020-12-11 00:01:29</td>\n",
       "    </tr>\n",
       "    <tr>\n",
       "      <th>2</th>\n",
       "      <td>321230114</td>\n",
       "      <td>2020-12-11 00:19:13.299151076</td>\n",
       "      <td>Delivered</td>\n",
       "      <td>2020-12-11 00:01:29</td>\n",
       "    </tr>\n",
       "    <tr>\n",
       "      <th>3</th>\n",
       "      <td>321230115</td>\n",
       "      <td>2020-12-11 00:36:02.000000000</td>\n",
       "      <td>Pending</td>\n",
       "      <td>2020-12-11 00:36:02</td>\n",
       "    </tr>\n",
       "    <tr>\n",
       "      <th>4</th>\n",
       "      <td>321230115</td>\n",
       "      <td>2020-12-11 00:41:02.000000000</td>\n",
       "      <td>Out For Delivery</td>\n",
       "      <td>2020-12-11 00:36:02</td>\n",
       "    </tr>\n",
       "  </tbody>\n",
       "</table>\n",
       "</div>"
      ],
      "text/plain": [
       "    order_id                    time_stamp            status  \\\n",
       "0  321230114 2020-12-11 00:01:29.000000000           Pending   \n",
       "1  321230114 2020-12-11 00:06:29.000000000  Out For Delivery   \n",
       "2  321230114 2020-12-11 00:19:13.299151076         Delivered   \n",
       "3  321230115 2020-12-11 00:36:02.000000000           Pending   \n",
       "4  321230115 2020-12-11 00:41:02.000000000  Out For Delivery   \n",
       "\n",
       "      order_placed_at  \n",
       "0 2020-12-11 00:01:29  \n",
       "1 2020-12-11 00:01:29  \n",
       "2 2020-12-11 00:01:29  \n",
       "3 2020-12-11 00:36:02  \n",
       "4 2020-12-11 00:36:02  "
      ]
     },
     "execution_count": 25,
     "metadata": {},
     "output_type": "execute_result"
    }
   ],
   "source": [
    "merge1.head()"
   ]
  },
  {
   "cell_type": "code",
   "execution_count": 26,
   "id": "4b1ab286",
   "metadata": {},
   "outputs": [
    {
     "data": {
      "text/html": [
       "<div>\n",
       "<style scoped>\n",
       "    .dataframe tbody tr th:only-of-type {\n",
       "        vertical-align: middle;\n",
       "    }\n",
       "\n",
       "    .dataframe tbody tr th {\n",
       "        vertical-align: top;\n",
       "    }\n",
       "\n",
       "    .dataframe thead th {\n",
       "        text-align: right;\n",
       "    }\n",
       "</style>\n",
       "<table border=\"1\" class=\"dataframe\">\n",
       "  <thead>\n",
       "    <tr style=\"text-align: right;\">\n",
       "      <th></th>\n",
       "      <th>order_id</th>\n",
       "      <th>time_stamp</th>\n",
       "      <th>status</th>\n",
       "      <th>order_placed_at</th>\n",
       "    </tr>\n",
       "  </thead>\n",
       "  <tbody>\n",
       "    <tr>\n",
       "      <th>1363003</th>\n",
       "      <td>321684449</td>\n",
       "      <td>2024-02-01 00:00:46.000000000</td>\n",
       "      <td>Out For Delivery</td>\n",
       "      <td>2024-01-31 23:55:46</td>\n",
       "    </tr>\n",
       "    <tr>\n",
       "      <th>1363004</th>\n",
       "      <td>321684449</td>\n",
       "      <td>2024-02-01 00:14:56.997433391</td>\n",
       "      <td>Delivered</td>\n",
       "      <td>2024-01-31 23:55:46</td>\n",
       "    </tr>\n",
       "    <tr>\n",
       "      <th>1363005</th>\n",
       "      <td>321684448</td>\n",
       "      <td>2024-01-31 23:58:05.000000000</td>\n",
       "      <td>Pending</td>\n",
       "      <td>2024-01-31 23:58:05</td>\n",
       "    </tr>\n",
       "    <tr>\n",
       "      <th>1363006</th>\n",
       "      <td>321684448</td>\n",
       "      <td>2024-02-01 00:03:05.000000000</td>\n",
       "      <td>Out For Delivery</td>\n",
       "      <td>2024-01-31 23:58:05</td>\n",
       "    </tr>\n",
       "    <tr>\n",
       "      <th>1363007</th>\n",
       "      <td>321684448</td>\n",
       "      <td>2024-02-01 00:17:50.996900711</td>\n",
       "      <td>Delivered</td>\n",
       "      <td>2024-01-31 23:58:05</td>\n",
       "    </tr>\n",
       "  </tbody>\n",
       "</table>\n",
       "</div>"
      ],
      "text/plain": [
       "          order_id                    time_stamp            status  \\\n",
       "1363003  321684449 2024-02-01 00:00:46.000000000  Out For Delivery   \n",
       "1363004  321684449 2024-02-01 00:14:56.997433391         Delivered   \n",
       "1363005  321684448 2024-01-31 23:58:05.000000000           Pending   \n",
       "1363006  321684448 2024-02-01 00:03:05.000000000  Out For Delivery   \n",
       "1363007  321684448 2024-02-01 00:17:50.996900711         Delivered   \n",
       "\n",
       "            order_placed_at  \n",
       "1363003 2024-01-31 23:55:46  \n",
       "1363004 2024-01-31 23:55:46  \n",
       "1363005 2024-01-31 23:58:05  \n",
       "1363006 2024-01-31 23:58:05  \n",
       "1363007 2024-01-31 23:58:05  "
      ]
     },
     "execution_count": 26,
     "metadata": {},
     "output_type": "execute_result"
    }
   ],
   "source": [
    "merge1.tail()"
   ]
  },
  {
   "cell_type": "raw",
   "id": "b83eabac",
   "metadata": {},
   "source": [
    "# What is the average Delivery Time (in minutes) taken by the store to deliver the Pizza?\n",
    "Round off the answer upto 2 decimal places."
   ]
  },
  {
   "cell_type": "code",
   "execution_count": 27,
   "id": "2d92035a",
   "metadata": {},
   "outputs": [],
   "source": [
    "deli = merge1.loc[merge1['status']=='Delivered']"
   ]
  },
  {
   "cell_type": "code",
   "execution_count": 28,
   "id": "dc272cb5",
   "metadata": {},
   "outputs": [
    {
     "name": "stderr",
     "output_type": "stream",
     "text": [
      "C:\\Users\\K Tarun\\AppData\\Local\\Temp\\ipykernel_22752\\1337053808.py:1: SettingWithCopyWarning: \n",
      "A value is trying to be set on a copy of a slice from a DataFrame.\n",
      "Try using .loc[row_indexer,col_indexer] = value instead\n",
      "\n",
      "See the caveats in the documentation: https://pandas.pydata.org/pandas-docs/stable/user_guide/indexing.html#returning-a-view-versus-a-copy\n",
      "  deli['time_taken'] = deli['time_stamp']-deli['order_placed_at']\n"
     ]
    }
   ],
   "source": [
    "deli['time_taken'] = deli['time_stamp']-deli['order_placed_at']"
   ]
  },
  {
   "cell_type": "code",
   "execution_count": 29,
   "id": "9e7b9414",
   "metadata": {},
   "outputs": [
    {
     "data": {
      "text/html": [
       "<div>\n",
       "<style scoped>\n",
       "    .dataframe tbody tr th:only-of-type {\n",
       "        vertical-align: middle;\n",
       "    }\n",
       "\n",
       "    .dataframe tbody tr th {\n",
       "        vertical-align: top;\n",
       "    }\n",
       "\n",
       "    .dataframe thead th {\n",
       "        text-align: right;\n",
       "    }\n",
       "</style>\n",
       "<table border=\"1\" class=\"dataframe\">\n",
       "  <thead>\n",
       "    <tr style=\"text-align: right;\">\n",
       "      <th></th>\n",
       "      <th>order_id</th>\n",
       "      <th>time_stamp</th>\n",
       "      <th>status</th>\n",
       "      <th>order_placed_at</th>\n",
       "      <th>time_taken</th>\n",
       "    </tr>\n",
       "  </thead>\n",
       "  <tbody>\n",
       "    <tr>\n",
       "      <th>2</th>\n",
       "      <td>321230114</td>\n",
       "      <td>2020-12-11 00:19:13.299151076</td>\n",
       "      <td>Delivered</td>\n",
       "      <td>2020-12-11 00:01:29</td>\n",
       "      <td>0 days 00:17:44.299151076</td>\n",
       "    </tr>\n",
       "    <tr>\n",
       "      <th>5</th>\n",
       "      <td>321230115</td>\n",
       "      <td>2020-12-11 00:59:18.054846609</td>\n",
       "      <td>Delivered</td>\n",
       "      <td>2020-12-11 00:36:02</td>\n",
       "      <td>0 days 00:23:16.054846609</td>\n",
       "    </tr>\n",
       "    <tr>\n",
       "      <th>8</th>\n",
       "      <td>321230116</td>\n",
       "      <td>2020-12-11 01:13:52.153042625</td>\n",
       "      <td>Delivered</td>\n",
       "      <td>2020-12-11 00:55:01</td>\n",
       "      <td>0 days 00:18:51.153042625</td>\n",
       "    </tr>\n",
       "    <tr>\n",
       "      <th>11</th>\n",
       "      <td>321230117</td>\n",
       "      <td>2020-12-11 01:22:44.430088094</td>\n",
       "      <td>Delivered</td>\n",
       "      <td>2020-12-11 01:05:27</td>\n",
       "      <td>0 days 00:17:17.430088094</td>\n",
       "    </tr>\n",
       "    <tr>\n",
       "      <th>14</th>\n",
       "      <td>321230118</td>\n",
       "      <td>2020-12-11 01:32:27.488575946</td>\n",
       "      <td>Delivered</td>\n",
       "      <td>2020-12-11 01:14:20</td>\n",
       "      <td>0 days 00:18:07.488575946</td>\n",
       "    </tr>\n",
       "    <tr>\n",
       "      <th>...</th>\n",
       "      <td>...</td>\n",
       "      <td>...</td>\n",
       "      <td>...</td>\n",
       "      <td>...</td>\n",
       "      <td>...</td>\n",
       "    </tr>\n",
       "    <tr>\n",
       "      <th>1362995</th>\n",
       "      <td>321684445</td>\n",
       "      <td>2024-01-31 23:45:54.185192716</td>\n",
       "      <td>Delivered</td>\n",
       "      <td>2024-01-31 23:27:51</td>\n",
       "      <td>0 days 00:18:03.185192716</td>\n",
       "    </tr>\n",
       "    <tr>\n",
       "      <th>1362998</th>\n",
       "      <td>321684447</td>\n",
       "      <td>2024-01-31 23:56:35.426400154</td>\n",
       "      <td>Delivered</td>\n",
       "      <td>2024-01-31 23:36:08</td>\n",
       "      <td>0 days 00:20:27.426400154</td>\n",
       "    </tr>\n",
       "    <tr>\n",
       "      <th>1363001</th>\n",
       "      <td>321684446</td>\n",
       "      <td>2024-01-31 23:58:08.494812502</td>\n",
       "      <td>Delivered</td>\n",
       "      <td>2024-01-31 23:40:14</td>\n",
       "      <td>0 days 00:17:54.494812502</td>\n",
       "    </tr>\n",
       "    <tr>\n",
       "      <th>1363004</th>\n",
       "      <td>321684449</td>\n",
       "      <td>2024-02-01 00:14:56.997433391</td>\n",
       "      <td>Delivered</td>\n",
       "      <td>2024-01-31 23:55:46</td>\n",
       "      <td>0 days 00:19:10.997433391</td>\n",
       "    </tr>\n",
       "    <tr>\n",
       "      <th>1363007</th>\n",
       "      <td>321684448</td>\n",
       "      <td>2024-02-01 00:17:50.996900711</td>\n",
       "      <td>Delivered</td>\n",
       "      <td>2024-01-31 23:58:05</td>\n",
       "      <td>0 days 00:19:45.996900711</td>\n",
       "    </tr>\n",
       "  </tbody>\n",
       "</table>\n",
       "<p>454336 rows × 5 columns</p>\n",
       "</div>"
      ],
      "text/plain": [
       "          order_id                    time_stamp     status  \\\n",
       "2        321230114 2020-12-11 00:19:13.299151076  Delivered   \n",
       "5        321230115 2020-12-11 00:59:18.054846609  Delivered   \n",
       "8        321230116 2020-12-11 01:13:52.153042625  Delivered   \n",
       "11       321230117 2020-12-11 01:22:44.430088094  Delivered   \n",
       "14       321230118 2020-12-11 01:32:27.488575946  Delivered   \n",
       "...            ...                           ...        ...   \n",
       "1362995  321684445 2024-01-31 23:45:54.185192716  Delivered   \n",
       "1362998  321684447 2024-01-31 23:56:35.426400154  Delivered   \n",
       "1363001  321684446 2024-01-31 23:58:08.494812502  Delivered   \n",
       "1363004  321684449 2024-02-01 00:14:56.997433391  Delivered   \n",
       "1363007  321684448 2024-02-01 00:17:50.996900711  Delivered   \n",
       "\n",
       "            order_placed_at                time_taken  \n",
       "2       2020-12-11 00:01:29 0 days 00:17:44.299151076  \n",
       "5       2020-12-11 00:36:02 0 days 00:23:16.054846609  \n",
       "8       2020-12-11 00:55:01 0 days 00:18:51.153042625  \n",
       "11      2020-12-11 01:05:27 0 days 00:17:17.430088094  \n",
       "14      2020-12-11 01:14:20 0 days 00:18:07.488575946  \n",
       "...                     ...                       ...  \n",
       "1362995 2024-01-31 23:27:51 0 days 00:18:03.185192716  \n",
       "1362998 2024-01-31 23:36:08 0 days 00:20:27.426400154  \n",
       "1363001 2024-01-31 23:40:14 0 days 00:17:54.494812502  \n",
       "1363004 2024-01-31 23:55:46 0 days 00:19:10.997433391  \n",
       "1363007 2024-01-31 23:58:05 0 days 00:19:45.996900711  \n",
       "\n",
       "[454336 rows x 5 columns]"
      ]
     },
     "execution_count": 29,
     "metadata": {},
     "output_type": "execute_result"
    }
   ],
   "source": [
    "deli"
   ]
  },
  {
   "cell_type": "code",
   "execution_count": 30,
   "id": "3f84eaeb",
   "metadata": {},
   "outputs": [
    {
     "data": {
      "text/plain": [
       "2         0 days 00:17:44.299151076\n",
       "5         0 days 00:23:16.054846609\n",
       "8         0 days 00:18:51.153042625\n",
       "11        0 days 00:17:17.430088094\n",
       "14        0 days 00:18:07.488575946\n",
       "                     ...           \n",
       "1362995   0 days 00:18:03.185192716\n",
       "1362998   0 days 00:20:27.426400154\n",
       "1363001   0 days 00:17:54.494812502\n",
       "1363004   0 days 00:19:10.997433391\n",
       "1363007   0 days 00:19:45.996900711\n",
       "Name: time_taken, Length: 454336, dtype: timedelta64[ns]"
      ]
     },
     "execution_count": 30,
     "metadata": {},
     "output_type": "execute_result"
    }
   ],
   "source": [
    "deli['time_taken']"
   ]
  },
  {
   "cell_type": "code",
   "execution_count": 31,
   "id": "849ebda3",
   "metadata": {},
   "outputs": [
    {
     "data": {
      "text/plain": [
       "1238.853646"
      ]
     },
     "execution_count": 31,
     "metadata": {},
     "output_type": "execute_result"
    }
   ],
   "source": [
    "average_timedelta = deli['time_taken'].mean()\n",
    "average_timedelta.total_seconds()"
   ]
  },
  {
   "cell_type": "markdown",
   "id": "d79a7b4f",
   "metadata": {},
   "source": [
    "### What is the average Delivery Time (in minutes) taken by the store to deliver the Pizza?\n",
    "### Round off the answer upto 2 decimal places."
   ]
  },
  {
   "cell_type": "code",
   "execution_count": 32,
   "id": "3600f3f8",
   "metadata": {},
   "outputs": [
    {
     "data": {
      "text/plain": [
       "20.65"
      ]
     },
     "execution_count": 32,
     "metadata": {},
     "output_type": "execute_result"
    }
   ],
   "source": [
    "round(1238.853646/60,2)"
   ]
  },
  {
   "cell_type": "markdown",
   "id": "7efcaf9b",
   "metadata": {},
   "source": [
    "### Median of time taken to delivery"
   ]
  },
  {
   "cell_type": "code",
   "execution_count": 33,
   "id": "68cca357",
   "metadata": {},
   "outputs": [
    {
     "data": {
      "text/plain": [
       "19.981661550000002"
      ]
     },
     "execution_count": 33,
     "metadata": {},
     "output_type": "execute_result"
    }
   ],
   "source": [
    "deli['time_taken'].median().total_seconds()/60"
   ]
  },
  {
   "cell_type": "markdown",
   "id": "5a07cb4c",
   "metadata": {},
   "source": [
    "### Median of time taken to delivery"
   ]
  },
  {
   "cell_type": "code",
   "execution_count": 34,
   "id": "92ba6496",
   "metadata": {},
   "outputs": [
    {
     "data": {
      "text/plain": [
       "62.91207811666666"
      ]
     },
     "execution_count": 34,
     "metadata": {},
     "output_type": "execute_result"
    }
   ],
   "source": [
    "deli['time_taken'].max().total_seconds()/60"
   ]
  },
  {
   "cell_type": "markdown",
   "id": "2646bc75",
   "metadata": {},
   "source": [
    "### 99 percentile of time taken to delivery"
   ]
  },
  {
   "cell_type": "code",
   "execution_count": 35,
   "id": "bda83021",
   "metadata": {},
   "outputs": [
    {
     "name": "stdout",
     "output_type": "stream",
     "text": [
      "99th percentile of the timedelta column: 0 days 00:30:53.725475329\n"
     ]
    }
   ],
   "source": [
    "percentile_99 = deli['time_taken'].quantile(0.99)\n",
    "\n",
    "print(\"99th percentile of the timedelta column:\", percentile_99)"
   ]
  },
  {
   "cell_type": "code",
   "execution_count": 36,
   "id": "4620a54a",
   "metadata": {},
   "outputs": [
    {
     "data": {
      "text/plain": [
       "30.895424583333334"
      ]
     },
     "execution_count": 36,
     "metadata": {},
     "output_type": "execute_result"
    }
   ],
   "source": [
    "percentile_99.total_seconds()/60"
   ]
  },
  {
   "cell_type": "markdown",
   "id": "12493d68",
   "metadata": {},
   "source": [
    "### 95 percentile of time taken to delivery"
   ]
  },
  {
   "cell_type": "code",
   "execution_count": 37,
   "id": "acb040c7",
   "metadata": {},
   "outputs": [
    {
     "name": "stdout",
     "output_type": "stream",
     "text": [
      "99th percentile of the timedelta column: 0 days 00:26:21.078021844\n"
     ]
    }
   ],
   "source": [
    "percentile_95 = deli['time_taken'].quantile(0.95)\n",
    "\n",
    "print(\"99th percentile of the timedelta column:\", percentile_95)"
   ]
  },
  {
   "cell_type": "code",
   "execution_count": 38,
   "id": "fbcec084",
   "metadata": {},
   "outputs": [
    {
     "data": {
      "text/plain": [
       "26.35130035"
      ]
     },
     "execution_count": 38,
     "metadata": {},
     "output_type": "execute_result"
    }
   ],
   "source": [
    "percentile_95.total_seconds()/60"
   ]
  },
  {
   "cell_type": "markdown",
   "id": "9d905791",
   "metadata": {},
   "source": [
    "### What is the order id with the maximum delivery time?"
   ]
  },
  {
   "cell_type": "code",
   "execution_count": 39,
   "id": "ec9c89d0",
   "metadata": {},
   "outputs": [
    {
     "data": {
      "text/html": [
       "<div>\n",
       "<style scoped>\n",
       "    .dataframe tbody tr th:only-of-type {\n",
       "        vertical-align: middle;\n",
       "    }\n",
       "\n",
       "    .dataframe tbody tr th {\n",
       "        vertical-align: top;\n",
       "    }\n",
       "\n",
       "    .dataframe thead th {\n",
       "        text-align: right;\n",
       "    }\n",
       "</style>\n",
       "<table border=\"1\" class=\"dataframe\">\n",
       "  <thead>\n",
       "    <tr style=\"text-align: right;\">\n",
       "      <th></th>\n",
       "      <th>order_id</th>\n",
       "      <th>time_stamp</th>\n",
       "      <th>status</th>\n",
       "      <th>order_placed_at</th>\n",
       "      <th>time_taken</th>\n",
       "    </tr>\n",
       "  </thead>\n",
       "  <tbody>\n",
       "    <tr>\n",
       "      <th>1196819</th>\n",
       "      <td>321629049</td>\n",
       "      <td>2023-09-21 16:52:49.724687723</td>\n",
       "      <td>Delivered</td>\n",
       "      <td>2023-09-21 15:49:55</td>\n",
       "      <td>0 days 01:02:54.724687723</td>\n",
       "    </tr>\n",
       "  </tbody>\n",
       "</table>\n",
       "</div>"
      ],
      "text/plain": [
       "          order_id                    time_stamp     status  \\\n",
       "1196819  321629049 2023-09-21 16:52:49.724687723  Delivered   \n",
       "\n",
       "            order_placed_at                time_taken  \n",
       "1196819 2023-09-21 15:49:55 0 days 01:02:54.724687723  "
      ]
     },
     "execution_count": 39,
     "metadata": {},
     "output_type": "execute_result"
    }
   ],
   "source": [
    "deli.loc[deli['time_taken']==deli['time_taken'].max()]"
   ]
  },
  {
   "cell_type": "markdown",
   "id": "948bcafc",
   "metadata": {},
   "source": [
    "### How many pizza's were ordered between 1st January and 31st January 2024 (INCLUSIVE)?"
   ]
  },
  {
   "cell_type": "code",
   "execution_count": 40,
   "id": "f21f3e37",
   "metadata": {},
   "outputs": [],
   "source": [
    "orders_in_january = merge1[(merge1['time_stamp'] >= '2024-01-01') & (merge1['time_stamp'] <= '2024-01-31')]"
   ]
  },
  {
   "cell_type": "code",
   "execution_count": 41,
   "id": "0d707c9c",
   "metadata": {},
   "outputs": [
    {
     "data": {
      "text/plain": [
       "35686"
      ]
     },
     "execution_count": 41,
     "metadata": {},
     "output_type": "execute_result"
    }
   ],
   "source": [
    "len(orders_in_january)"
   ]
  },
  {
   "cell_type": "markdown",
   "id": "44f2e481",
   "metadata": {},
   "source": [
    "### How many order took more than 30 minutes to deliver between 1st January and 31st January 2024 (INCLUSIVE)?"
   ]
  },
  {
   "cell_type": "code",
   "execution_count": 42,
   "id": "c423ceac",
   "metadata": {},
   "outputs": [
    {
     "data": {
      "text/html": [
       "<div>\n",
       "<style scoped>\n",
       "    .dataframe tbody tr th:only-of-type {\n",
       "        vertical-align: middle;\n",
       "    }\n",
       "\n",
       "    .dataframe tbody tr th {\n",
       "        vertical-align: top;\n",
       "    }\n",
       "\n",
       "    .dataframe thead th {\n",
       "        text-align: right;\n",
       "    }\n",
       "</style>\n",
       "<table border=\"1\" class=\"dataframe\">\n",
       "  <thead>\n",
       "    <tr style=\"text-align: right;\">\n",
       "      <th></th>\n",
       "      <th>order_id</th>\n",
       "      <th>time_stamp</th>\n",
       "      <th>status</th>\n",
       "      <th>order_placed_at</th>\n",
       "      <th>time_taken</th>\n",
       "    </tr>\n",
       "  </thead>\n",
       "  <tbody>\n",
       "    <tr>\n",
       "      <th>1326077</th>\n",
       "      <td>321672139</td>\n",
       "      <td>2024-01-01 00:06:13.918901293</td>\n",
       "      <td>Delivered</td>\n",
       "      <td>2023-12-31 23:47:02</td>\n",
       "      <td>0 days 00:19:11.918901293</td>\n",
       "    </tr>\n",
       "    <tr>\n",
       "      <th>1326080</th>\n",
       "      <td>321672140</td>\n",
       "      <td>2024-01-01 00:07:42.538413397</td>\n",
       "      <td>Delivered</td>\n",
       "      <td>2023-12-31 23:47:38</td>\n",
       "      <td>0 days 00:20:04.538413397</td>\n",
       "    </tr>\n",
       "    <tr>\n",
       "      <th>1326083</th>\n",
       "      <td>321672141</td>\n",
       "      <td>2024-01-01 00:06:10.755791396</td>\n",
       "      <td>Delivered</td>\n",
       "      <td>2023-12-31 23:48:07</td>\n",
       "      <td>0 days 00:18:03.755791396</td>\n",
       "    </tr>\n",
       "    <tr>\n",
       "      <th>1326086</th>\n",
       "      <td>321672142</td>\n",
       "      <td>2024-01-01 00:10:16.789657656</td>\n",
       "      <td>Delivered</td>\n",
       "      <td>2023-12-31 23:52:05</td>\n",
       "      <td>0 days 00:18:11.789657656</td>\n",
       "    </tr>\n",
       "    <tr>\n",
       "      <th>1326089</th>\n",
       "      <td>321672144</td>\n",
       "      <td>2024-01-01 00:16:21.162104676</td>\n",
       "      <td>Delivered</td>\n",
       "      <td>2023-12-31 23:53:06</td>\n",
       "      <td>0 days 00:23:15.162104676</td>\n",
       "    </tr>\n",
       "    <tr>\n",
       "      <th>...</th>\n",
       "      <td>...</td>\n",
       "      <td>...</td>\n",
       "      <td>...</td>\n",
       "      <td>...</td>\n",
       "      <td>...</td>\n",
       "    </tr>\n",
       "    <tr>\n",
       "      <th>1361753</th>\n",
       "      <td>321684031</td>\n",
       "      <td>2024-01-30 23:16:58.762485115</td>\n",
       "      <td>Delivered</td>\n",
       "      <td>2024-01-30 22:57:11</td>\n",
       "      <td>0 days 00:19:47.762485115</td>\n",
       "    </tr>\n",
       "    <tr>\n",
       "      <th>1361756</th>\n",
       "      <td>321684033</td>\n",
       "      <td>2024-01-30 23:25:24.321102049</td>\n",
       "      <td>Delivered</td>\n",
       "      <td>2024-01-30 23:01:37</td>\n",
       "      <td>0 days 00:23:47.321102049</td>\n",
       "    </tr>\n",
       "    <tr>\n",
       "      <th>1361759</th>\n",
       "      <td>321684032</td>\n",
       "      <td>2024-01-30 23:23:37.869792351</td>\n",
       "      <td>Delivered</td>\n",
       "      <td>2024-01-30 23:04:47</td>\n",
       "      <td>0 days 00:18:50.869792351</td>\n",
       "    </tr>\n",
       "    <tr>\n",
       "      <th>1361762</th>\n",
       "      <td>321684034</td>\n",
       "      <td>2024-01-30 23:28:59.050729796</td>\n",
       "      <td>Delivered</td>\n",
       "      <td>2024-01-30 23:08:30</td>\n",
       "      <td>0 days 00:20:29.050729796</td>\n",
       "    </tr>\n",
       "    <tr>\n",
       "      <th>1361765</th>\n",
       "      <td>321684035</td>\n",
       "      <td>2024-01-30 23:34:22.107470052</td>\n",
       "      <td>Delivered</td>\n",
       "      <td>2024-01-30 23:16:02</td>\n",
       "      <td>0 days 00:18:20.107470052</td>\n",
       "    </tr>\n",
       "  </tbody>\n",
       "</table>\n",
       "<p>11897 rows × 5 columns</p>\n",
       "</div>"
      ],
      "text/plain": [
       "          order_id                    time_stamp     status  \\\n",
       "1326077  321672139 2024-01-01 00:06:13.918901293  Delivered   \n",
       "1326080  321672140 2024-01-01 00:07:42.538413397  Delivered   \n",
       "1326083  321672141 2024-01-01 00:06:10.755791396  Delivered   \n",
       "1326086  321672142 2024-01-01 00:10:16.789657656  Delivered   \n",
       "1326089  321672144 2024-01-01 00:16:21.162104676  Delivered   \n",
       "...            ...                           ...        ...   \n",
       "1361753  321684031 2024-01-30 23:16:58.762485115  Delivered   \n",
       "1361756  321684033 2024-01-30 23:25:24.321102049  Delivered   \n",
       "1361759  321684032 2024-01-30 23:23:37.869792351  Delivered   \n",
       "1361762  321684034 2024-01-30 23:28:59.050729796  Delivered   \n",
       "1361765  321684035 2024-01-30 23:34:22.107470052  Delivered   \n",
       "\n",
       "            order_placed_at                time_taken  \n",
       "1326077 2023-12-31 23:47:02 0 days 00:19:11.918901293  \n",
       "1326080 2023-12-31 23:47:38 0 days 00:20:04.538413397  \n",
       "1326083 2023-12-31 23:48:07 0 days 00:18:03.755791396  \n",
       "1326086 2023-12-31 23:52:05 0 days 00:18:11.789657656  \n",
       "1326089 2023-12-31 23:53:06 0 days 00:23:15.162104676  \n",
       "...                     ...                       ...  \n",
       "1361753 2024-01-30 22:57:11 0 days 00:19:47.762485115  \n",
       "1361756 2024-01-30 23:01:37 0 days 00:23:47.321102049  \n",
       "1361759 2024-01-30 23:04:47 0 days 00:18:50.869792351  \n",
       "1361762 2024-01-30 23:08:30 0 days 00:20:29.050729796  \n",
       "1361765 2024-01-30 23:16:02 0 days 00:18:20.107470052  \n",
       "\n",
       "[11897 rows x 5 columns]"
      ]
     },
     "execution_count": 42,
     "metadata": {},
     "output_type": "execute_result"
    }
   ],
   "source": [
    "orders_in_january = deli[(deli['time_stamp'] >= '2024-01-01') & (deli['time_stamp'] <= '2024-01-31')]\n",
    "orders_in_january"
   ]
  },
  {
   "cell_type": "code",
   "execution_count": 43,
   "id": "af45fd6d",
   "metadata": {},
   "outputs": [],
   "source": [
    "orders_more_than_30_minutes = orders_in_january[orders_in_january['time_taken'] > pd.Timedelta(minutes=30)]"
   ]
  },
  {
   "cell_type": "code",
   "execution_count": 44,
   "id": "ff147a4c",
   "metadata": {},
   "outputs": [
    {
     "data": {
      "text/plain": [
       "158"
      ]
     },
     "execution_count": 44,
     "metadata": {},
     "output_type": "execute_result"
    }
   ],
   "source": [
    "len(orders_more_than_30_minutes)"
   ]
  },
  {
   "cell_type": "code",
   "execution_count": 45,
   "id": "c94cb41d",
   "metadata": {},
   "outputs": [],
   "source": [
    "abc = orders_items"
   ]
  },
  {
   "cell_type": "code",
   "execution_count": 46,
   "id": "00df6124",
   "metadata": {},
   "outputs": [],
   "source": [
    "import ast"
   ]
  },
  {
   "cell_type": "code",
   "execution_count": 47,
   "id": "57468e83",
   "metadata": {},
   "outputs": [],
   "source": [
    "abc['items_ordered'] = abc['items_ordered'].apply(ast.literal_eval)"
   ]
  },
  {
   "cell_type": "code",
   "execution_count": 48,
   "id": "fdcc5236",
   "metadata": {},
   "outputs": [
    {
     "data": {
      "text/html": [
       "<div>\n",
       "<style scoped>\n",
       "    .dataframe tbody tr th:only-of-type {\n",
       "        vertical-align: middle;\n",
       "    }\n",
       "\n",
       "    .dataframe tbody tr th {\n",
       "        vertical-align: top;\n",
       "    }\n",
       "\n",
       "    .dataframe thead th {\n",
       "        text-align: right;\n",
       "    }\n",
       "</style>\n",
       "<table border=\"1\" class=\"dataframe\">\n",
       "  <thead>\n",
       "    <tr style=\"text-align: right;\">\n",
       "      <th></th>\n",
       "      <th>order_id</th>\n",
       "      <th>items_ordered</th>\n",
       "    </tr>\n",
       "  </thead>\n",
       "  <tbody>\n",
       "    <tr>\n",
       "      <th>0</th>\n",
       "      <td>321230114</td>\n",
       "      <td>[p_025, p_032, p_037]</td>\n",
       "    </tr>\n",
       "    <tr>\n",
       "      <th>1</th>\n",
       "      <td>321230115</td>\n",
       "      <td>[p_017, p_012]</td>\n",
       "    </tr>\n",
       "    <tr>\n",
       "      <th>2</th>\n",
       "      <td>321230116</td>\n",
       "      <td>[p_027, p_037]</td>\n",
       "    </tr>\n",
       "    <tr>\n",
       "      <th>3</th>\n",
       "      <td>321230117</td>\n",
       "      <td>[p_004, p_029]</td>\n",
       "    </tr>\n",
       "    <tr>\n",
       "      <th>4</th>\n",
       "      <td>321230118</td>\n",
       "      <td>[p_017, p_037]</td>\n",
       "    </tr>\n",
       "  </tbody>\n",
       "</table>\n",
       "</div>"
      ],
      "text/plain": [
       "    order_id          items_ordered\n",
       "0  321230114  [p_025, p_032, p_037]\n",
       "1  321230115         [p_017, p_012]\n",
       "2  321230116         [p_027, p_037]\n",
       "3  321230117         [p_004, p_029]\n",
       "4  321230118         [p_017, p_037]"
      ]
     },
     "execution_count": 48,
     "metadata": {},
     "output_type": "execute_result"
    }
   ],
   "source": [
    "abc.head()"
   ]
  },
  {
   "cell_type": "code",
   "execution_count": 49,
   "id": "f53f42ff",
   "metadata": {},
   "outputs": [],
   "source": [
    "explode_df = abc.explode('items_ordered')"
   ]
  },
  {
   "cell_type": "code",
   "execution_count": 50,
   "id": "0ea362e2",
   "metadata": {},
   "outputs": [],
   "source": [
    "df1 = explode_df.rename(columns={'items_ordered': 'item_id'})"
   ]
  },
  {
   "cell_type": "code",
   "execution_count": 51,
   "id": "0988997c",
   "metadata": {},
   "outputs": [],
   "source": [
    "merge2 = pd.merge(df1, product[['item_id', 'Price']], on ='item_id')"
   ]
  },
  {
   "cell_type": "code",
   "execution_count": 52,
   "id": "de029647",
   "metadata": {},
   "outputs": [],
   "source": [
    "merge2['order_id']=merge2['order_id'].astype('object')"
   ]
  },
  {
   "cell_type": "code",
   "execution_count": 53,
   "id": "152cea6f",
   "metadata": {},
   "outputs": [
    {
     "data": {
      "text/plain": [
       "order_id    object\n",
       "item_id     object\n",
       "Price        int64\n",
       "dtype: object"
      ]
     },
     "execution_count": 53,
     "metadata": {},
     "output_type": "execute_result"
    }
   ],
   "source": [
    "merge2.dtypes"
   ]
  },
  {
   "cell_type": "code",
   "execution_count": 54,
   "id": "646b0e2b",
   "metadata": {},
   "outputs": [],
   "source": [
    "result = merge2.groupby('order_id')['Price'].sum().reset_index()"
   ]
  },
  {
   "cell_type": "code",
   "execution_count": 55,
   "id": "5cc011eb",
   "metadata": {},
   "outputs": [
    {
     "data": {
      "text/plain": [
       "order_id    int64\n",
       "Price       int64\n",
       "dtype: object"
      ]
     },
     "execution_count": 55,
     "metadata": {},
     "output_type": "execute_result"
    }
   ],
   "source": [
    "result.dtypes"
   ]
  },
  {
   "cell_type": "code",
   "execution_count": 56,
   "id": "9849700e",
   "metadata": {},
   "outputs": [
    {
     "data": {
      "text/plain": [
       "(454336, 2)"
      ]
     },
     "execution_count": 56,
     "metadata": {},
     "output_type": "execute_result"
    }
   ],
   "source": [
    "result.shape"
   ]
  },
  {
   "cell_type": "code",
   "execution_count": 57,
   "id": "55a95f83",
   "metadata": {},
   "outputs": [],
   "source": [
    "merge1['time_taken'] = merge1['time_stamp']-merge1['order_placed_at']"
   ]
  },
  {
   "cell_type": "code",
   "execution_count": 58,
   "id": "ec2137c0",
   "metadata": {},
   "outputs": [],
   "source": [
    "times = []\n",
    "for i in merge1['time_taken']:\n",
    "    times.append(i.total_seconds()/60)"
   ]
  },
  {
   "cell_type": "code",
   "execution_count": 59,
   "id": "0c741e1a",
   "metadata": {},
   "outputs": [
    {
     "data": {
      "text/plain": [
       "8.549186916666667"
      ]
     },
     "execution_count": 59,
     "metadata": {},
     "output_type": "execute_result"
    }
   ],
   "source": [
    "merge1['time_taken'].mean().total_seconds()/60"
   ]
  },
  {
   "cell_type": "code",
   "execution_count": 60,
   "id": "fe3c55c7",
   "metadata": {},
   "outputs": [
    {
     "data": {
      "text/plain": [
       "8.549186920808522"
      ]
     },
     "execution_count": 60,
     "metadata": {},
     "output_type": "execute_result"
    }
   ],
   "source": [
    "sum(times)/len(times)"
   ]
  },
  {
   "cell_type": "code",
   "execution_count": 61,
   "id": "e763b741",
   "metadata": {},
   "outputs": [],
   "source": [
    "merge1['in_minutes'] = times"
   ]
  },
  {
   "cell_type": "code",
   "execution_count": 62,
   "id": "2dd4c8a8",
   "metadata": {},
   "outputs": [],
   "source": [
    "merge3 = pd.merge(merge1, result, on ='order_id')"
   ]
  },
  {
   "cell_type": "code",
   "execution_count": 63,
   "id": "c936311a",
   "metadata": {},
   "outputs": [
    {
     "data": {
      "text/html": [
       "<div>\n",
       "<style scoped>\n",
       "    .dataframe tbody tr th:only-of-type {\n",
       "        vertical-align: middle;\n",
       "    }\n",
       "\n",
       "    .dataframe tbody tr th {\n",
       "        vertical-align: top;\n",
       "    }\n",
       "\n",
       "    .dataframe thead th {\n",
       "        text-align: right;\n",
       "    }\n",
       "</style>\n",
       "<table border=\"1\" class=\"dataframe\">\n",
       "  <thead>\n",
       "    <tr style=\"text-align: right;\">\n",
       "      <th></th>\n",
       "      <th>order_id</th>\n",
       "      <th>time_stamp</th>\n",
       "      <th>status</th>\n",
       "      <th>order_placed_at</th>\n",
       "      <th>time_taken</th>\n",
       "      <th>in_minutes</th>\n",
       "      <th>Price</th>\n",
       "    </tr>\n",
       "  </thead>\n",
       "  <tbody>\n",
       "    <tr>\n",
       "      <th>0</th>\n",
       "      <td>321230114</td>\n",
       "      <td>2020-12-11 00:01:29.000000000</td>\n",
       "      <td>Pending</td>\n",
       "      <td>2020-12-11 00:01:29</td>\n",
       "      <td>0 days 00:00:00</td>\n",
       "      <td>0.000000</td>\n",
       "      <td>1035</td>\n",
       "    </tr>\n",
       "    <tr>\n",
       "      <th>1</th>\n",
       "      <td>321230114</td>\n",
       "      <td>2020-12-11 00:06:29.000000000</td>\n",
       "      <td>Out For Delivery</td>\n",
       "      <td>2020-12-11 00:01:29</td>\n",
       "      <td>0 days 00:05:00</td>\n",
       "      <td>5.000000</td>\n",
       "      <td>1035</td>\n",
       "    </tr>\n",
       "    <tr>\n",
       "      <th>2</th>\n",
       "      <td>321230114</td>\n",
       "      <td>2020-12-11 00:19:13.299151076</td>\n",
       "      <td>Delivered</td>\n",
       "      <td>2020-12-11 00:01:29</td>\n",
       "      <td>0 days 00:17:44.299151076</td>\n",
       "      <td>17.738319</td>\n",
       "      <td>1035</td>\n",
       "    </tr>\n",
       "    <tr>\n",
       "      <th>3</th>\n",
       "      <td>321230115</td>\n",
       "      <td>2020-12-11 00:36:02.000000000</td>\n",
       "      <td>Pending</td>\n",
       "      <td>2020-12-11 00:36:02</td>\n",
       "      <td>0 days 00:00:00</td>\n",
       "      <td>0.000000</td>\n",
       "      <td>1178</td>\n",
       "    </tr>\n",
       "    <tr>\n",
       "      <th>4</th>\n",
       "      <td>321230115</td>\n",
       "      <td>2020-12-11 00:41:02.000000000</td>\n",
       "      <td>Out For Delivery</td>\n",
       "      <td>2020-12-11 00:36:02</td>\n",
       "      <td>0 days 00:05:00</td>\n",
       "      <td>5.000000</td>\n",
       "      <td>1178</td>\n",
       "    </tr>\n",
       "  </tbody>\n",
       "</table>\n",
       "</div>"
      ],
      "text/plain": [
       "    order_id                    time_stamp            status  \\\n",
       "0  321230114 2020-12-11 00:01:29.000000000           Pending   \n",
       "1  321230114 2020-12-11 00:06:29.000000000  Out For Delivery   \n",
       "2  321230114 2020-12-11 00:19:13.299151076         Delivered   \n",
       "3  321230115 2020-12-11 00:36:02.000000000           Pending   \n",
       "4  321230115 2020-12-11 00:41:02.000000000  Out For Delivery   \n",
       "\n",
       "      order_placed_at                time_taken  in_minutes  Price  \n",
       "0 2020-12-11 00:01:29           0 days 00:00:00    0.000000   1035  \n",
       "1 2020-12-11 00:01:29           0 days 00:05:00    5.000000   1035  \n",
       "2 2020-12-11 00:01:29 0 days 00:17:44.299151076   17.738319   1035  \n",
       "3 2020-12-11 00:36:02           0 days 00:00:00    0.000000   1178  \n",
       "4 2020-12-11 00:36:02           0 days 00:05:00    5.000000   1178  "
      ]
     },
     "execution_count": 63,
     "metadata": {},
     "output_type": "execute_result"
    }
   ],
   "source": [
    "merge3.head()"
   ]
  },
  {
   "cell_type": "markdown",
   "id": "d49603fd",
   "metadata": {},
   "source": [
    "### What is the total amount Pizza store lost in 2023 due to refunds on late deliveries?"
   ]
  },
  {
   "cell_type": "code",
   "execution_count": 64,
   "id": "36092b32",
   "metadata": {},
   "outputs": [],
   "source": [
    "orders_2023 = merge3[(merge3['time_stamp'] >= '2023-01-01') & (merge3['time_stamp'] <= '2023-12-31')]"
   ]
  },
  {
   "cell_type": "code",
   "execution_count": 65,
   "id": "23ba5374",
   "metadata": {},
   "outputs": [],
   "source": [
    "late_deli = orders_2023.loc[orders_2023['in_minutes']>30]"
   ]
  },
  {
   "cell_type": "code",
   "execution_count": 66,
   "id": "fb8f764c",
   "metadata": {},
   "outputs": [
    {
     "data": {
      "text/plain": [
       "1822265"
      ]
     },
     "execution_count": 66,
     "metadata": {},
     "output_type": "execute_result"
    }
   ],
   "source": [
    "late_deli['Price'].sum()"
   ]
  },
  {
   "cell_type": "code",
   "execution_count": 67,
   "id": "a4c1c8b4",
   "metadata": {},
   "outputs": [],
   "source": [
    "total_late_deli = merge3.loc[merge3['in_minutes']>30]"
   ]
  },
  {
   "cell_type": "code",
   "execution_count": 68,
   "id": "3158bb94",
   "metadata": {},
   "outputs": [
    {
     "data": {
      "text/html": [
       "<div>\n",
       "<style scoped>\n",
       "    .dataframe tbody tr th:only-of-type {\n",
       "        vertical-align: middle;\n",
       "    }\n",
       "\n",
       "    .dataframe tbody tr th {\n",
       "        vertical-align: top;\n",
       "    }\n",
       "\n",
       "    .dataframe thead th {\n",
       "        text-align: right;\n",
       "    }\n",
       "</style>\n",
       "<table border=\"1\" class=\"dataframe\">\n",
       "  <thead>\n",
       "    <tr style=\"text-align: right;\">\n",
       "      <th></th>\n",
       "      <th>order_id</th>\n",
       "      <th>time_stamp</th>\n",
       "      <th>status</th>\n",
       "      <th>order_placed_at</th>\n",
       "      <th>time_taken</th>\n",
       "      <th>in_minutes</th>\n",
       "      <th>Price</th>\n",
       "    </tr>\n",
       "  </thead>\n",
       "  <tbody>\n",
       "    <tr>\n",
       "      <th>77</th>\n",
       "      <td>321230138</td>\n",
       "      <td>2020-12-11 05:08:28.711036623</td>\n",
       "      <td>Delivered</td>\n",
       "      <td>2020-12-11 04:38:11</td>\n",
       "      <td>0 days 00:30:17.711036623</td>\n",
       "      <td>30.295184</td>\n",
       "      <td>909</td>\n",
       "    </tr>\n",
       "    <tr>\n",
       "      <th>584</th>\n",
       "      <td>321230308</td>\n",
       "      <td>2020-12-11 15:27:30.793171773</td>\n",
       "      <td>Delivered</td>\n",
       "      <td>2020-12-11 14:57:02</td>\n",
       "      <td>0 days 00:30:28.793171773</td>\n",
       "      <td>30.479886</td>\n",
       "      <td>1320</td>\n",
       "    </tr>\n",
       "    <tr>\n",
       "      <th>848</th>\n",
       "      <td>321230395</td>\n",
       "      <td>2020-12-11 18:16:44.289421657</td>\n",
       "      <td>Delivered</td>\n",
       "      <td>2020-12-11 17:46:40</td>\n",
       "      <td>0 days 00:30:04.289421657</td>\n",
       "      <td>30.071490</td>\n",
       "      <td>775</td>\n",
       "    </tr>\n",
       "    <tr>\n",
       "      <th>851</th>\n",
       "      <td>321230403</td>\n",
       "      <td>2020-12-11 18:21:58.694171362</td>\n",
       "      <td>Delivered</td>\n",
       "      <td>2020-12-11 17:46:40</td>\n",
       "      <td>0 days 00:35:18.694171362</td>\n",
       "      <td>35.311570</td>\n",
       "      <td>1045</td>\n",
       "    </tr>\n",
       "    <tr>\n",
       "      <th>1034</th>\n",
       "      <td>321230457</td>\n",
       "      <td>2020-12-11 20:31:08.815282886</td>\n",
       "      <td>Delivered</td>\n",
       "      <td>2020-12-11 19:57:14</td>\n",
       "      <td>0 days 00:33:54.815282886</td>\n",
       "      <td>33.913588</td>\n",
       "      <td>570</td>\n",
       "    </tr>\n",
       "    <tr>\n",
       "      <th>...</th>\n",
       "      <td>...</td>\n",
       "      <td>...</td>\n",
       "      <td>...</td>\n",
       "      <td>...</td>\n",
       "      <td>...</td>\n",
       "      <td>...</td>\n",
       "      <td>...</td>\n",
       "    </tr>\n",
       "    <tr>\n",
       "      <th>1361744</th>\n",
       "      <td>321684028</td>\n",
       "      <td>2024-01-30 23:15:57.900528163</td>\n",
       "      <td>Delivered</td>\n",
       "      <td>2024-01-30 22:43:33</td>\n",
       "      <td>0 days 00:32:24.900528163</td>\n",
       "      <td>32.415009</td>\n",
       "      <td>989</td>\n",
       "    </tr>\n",
       "    <tr>\n",
       "      <th>1362041</th>\n",
       "      <td>321684128</td>\n",
       "      <td>2024-01-31 09:28:43.508245394</td>\n",
       "      <td>Delivered</td>\n",
       "      <td>2024-01-31 08:45:58</td>\n",
       "      <td>0 days 00:42:45.508245394</td>\n",
       "      <td>42.758471</td>\n",
       "      <td>1065</td>\n",
       "    </tr>\n",
       "    <tr>\n",
       "      <th>1362449</th>\n",
       "      <td>321684266</td>\n",
       "      <td>2024-01-31 14:03:26.613185573</td>\n",
       "      <td>Delivered</td>\n",
       "      <td>2024-01-31 13:32:25</td>\n",
       "      <td>0 days 00:31:01.613185573</td>\n",
       "      <td>31.026886</td>\n",
       "      <td>1258</td>\n",
       "    </tr>\n",
       "    <tr>\n",
       "      <th>1362794</th>\n",
       "      <td>321684378</td>\n",
       "      <td>2024-01-31 18:35:39.707616698</td>\n",
       "      <td>Delivered</td>\n",
       "      <td>2024-01-31 18:05:26</td>\n",
       "      <td>0 days 00:30:13.707616698</td>\n",
       "      <td>30.228460</td>\n",
       "      <td>1311</td>\n",
       "    </tr>\n",
       "    <tr>\n",
       "      <th>1362941</th>\n",
       "      <td>321684428</td>\n",
       "      <td>2024-01-31 21:40:13.177156302</td>\n",
       "      <td>Delivered</td>\n",
       "      <td>2024-01-31 21:08:51</td>\n",
       "      <td>0 days 00:31:22.177156302</td>\n",
       "      <td>31.369619</td>\n",
       "      <td>1391</td>\n",
       "    </tr>\n",
       "  </tbody>\n",
       "</table>\n",
       "<p>6119 rows × 7 columns</p>\n",
       "</div>"
      ],
      "text/plain": [
       "          order_id                    time_stamp     status  \\\n",
       "77       321230138 2020-12-11 05:08:28.711036623  Delivered   \n",
       "584      321230308 2020-12-11 15:27:30.793171773  Delivered   \n",
       "848      321230395 2020-12-11 18:16:44.289421657  Delivered   \n",
       "851      321230403 2020-12-11 18:21:58.694171362  Delivered   \n",
       "1034     321230457 2020-12-11 20:31:08.815282886  Delivered   \n",
       "...            ...                           ...        ...   \n",
       "1361744  321684028 2024-01-30 23:15:57.900528163  Delivered   \n",
       "1362041  321684128 2024-01-31 09:28:43.508245394  Delivered   \n",
       "1362449  321684266 2024-01-31 14:03:26.613185573  Delivered   \n",
       "1362794  321684378 2024-01-31 18:35:39.707616698  Delivered   \n",
       "1362941  321684428 2024-01-31 21:40:13.177156302  Delivered   \n",
       "\n",
       "            order_placed_at                time_taken  in_minutes  Price  \n",
       "77      2020-12-11 04:38:11 0 days 00:30:17.711036623   30.295184    909  \n",
       "584     2020-12-11 14:57:02 0 days 00:30:28.793171773   30.479886   1320  \n",
       "848     2020-12-11 17:46:40 0 days 00:30:04.289421657   30.071490    775  \n",
       "851     2020-12-11 17:46:40 0 days 00:35:18.694171362   35.311570   1045  \n",
       "1034    2020-12-11 19:57:14 0 days 00:33:54.815282886   33.913588    570  \n",
       "...                     ...                       ...         ...    ...  \n",
       "1361744 2024-01-30 22:43:33 0 days 00:32:24.900528163   32.415009    989  \n",
       "1362041 2024-01-31 08:45:58 0 days 00:42:45.508245394   42.758471   1065  \n",
       "1362449 2024-01-31 13:32:25 0 days 00:31:01.613185573   31.026886   1258  \n",
       "1362794 2024-01-31 18:05:26 0 days 00:30:13.707616698   30.228460   1311  \n",
       "1362941 2024-01-31 21:08:51 0 days 00:31:22.177156302   31.369619   1391  \n",
       "\n",
       "[6119 rows x 7 columns]"
      ]
     },
     "execution_count": 68,
     "metadata": {},
     "output_type": "execute_result"
    }
   ],
   "source": [
    "total_late_deli"
   ]
  },
  {
   "cell_type": "markdown",
   "id": "b9781b08",
   "metadata": {},
   "source": [
    "### In which year Pizza store has lost maximum amount due to refunds on late deliveries?"
   ]
  },
  {
   "cell_type": "code",
   "execution_count": 69,
   "id": "c2ede53c",
   "metadata": {},
   "outputs": [
    {
     "name": "stderr",
     "output_type": "stream",
     "text": [
      "C:\\Users\\K Tarun\\AppData\\Local\\Temp\\ipykernel_22752\\1511264145.py:2: SettingWithCopyWarning: \n",
      "A value is trying to be set on a copy of a slice from a DataFrame.\n",
      "Try using .loc[row_indexer,col_indexer] = value instead\n",
      "\n",
      "See the caveats in the documentation: https://pandas.pydata.org/pandas-docs/stable/user_guide/indexing.html#returning-a-view-versus-a-copy\n",
      "  total_late_deli['year'] = total_late_deli['time_stamp'].dt.year\n"
     ]
    },
    {
     "data": {
      "image/png": "[encoded data removed]",
      "text/plain": [
       "<Figure size 640x480 with 1 Axes>"
      ]
     },
     "metadata": {},
     "output_type": "display_data"
    }
   ],
   "source": [
    "# Extract year from 'timestamp'\n",
    "total_late_deli['year'] = total_late_deli['time_stamp'].dt.year\n",
    "\n",
    "# Group by year and calculate the sum of prices\n",
    "yearly_sum = total_late_deli.groupby('year')['Price'].sum()\n",
    "\n",
    "# Plotting\n",
    "yearly_sum.plot(kind='bar', color='skyblue')\n",
    "plt.xlabel('Year')\n",
    "plt.ylabel('Sum of Price')\n",
    "plt.title('Sum of Price per Year')\n",
    "plt.xticks(rotation=45)\n",
    "plt.tight_layout()\n",
    "plt.show()"
   ]
  },
  {
   "cell_type": "code",
   "execution_count": 70,
   "id": "8dea4092",
   "metadata": {},
   "outputs": [
    {
     "data": {
      "text/plain": [
       "1356889"
      ]
     },
     "execution_count": 70,
     "metadata": {},
     "output_type": "execute_result"
    }
   ],
   "source": [
    "len(merge3)-6119"
   ]
  },
  {
   "cell_type": "code",
   "execution_count": 71,
   "id": "a5d6d191",
   "metadata": {},
   "outputs": [],
   "source": [
    "total_rev = merge3.loc[merge3['status']=='Delivered']"
   ]
  },
  {
   "cell_type": "code",
   "execution_count": 72,
   "id": "f7072cac",
   "metadata": {},
   "outputs": [],
   "source": [
    "total_rev1 = total_rev.loc[total_rev['in_minutes']<30]"
   ]
  },
  {
   "cell_type": "markdown",
   "id": "d7d0e4dc",
   "metadata": {},
   "source": [
    "### How much revenue is generated by the pizza store till date? Don't include the refund amount in revenue."
   ]
  },
  {
   "cell_type": "code",
   "execution_count": 73,
   "id": "49f3b007",
   "metadata": {},
   "outputs": [
    {
     "data": {
      "text/plain": [
       "402310056"
      ]
     },
     "execution_count": 73,
     "metadata": {},
     "output_type": "execute_result"
    }
   ],
   "source": [
    "total_rev1['Price'].sum()"
   ]
  },
  {
   "cell_type": "code",
   "execution_count": 74,
   "id": "c87cdbd6",
   "metadata": {},
   "outputs": [
    {
     "data": {
      "text/html": [
       "<div>\n",
       "<style scoped>\n",
       "    .dataframe tbody tr th:only-of-type {\n",
       "        vertical-align: middle;\n",
       "    }\n",
       "\n",
       "    .dataframe tbody tr th {\n",
       "        vertical-align: top;\n",
       "    }\n",
       "\n",
       "    .dataframe thead th {\n",
       "        text-align: right;\n",
       "    }\n",
       "</style>\n",
       "<table border=\"1\" class=\"dataframe\">\n",
       "  <thead>\n",
       "    <tr style=\"text-align: right;\">\n",
       "      <th></th>\n",
       "      <th>order_id</th>\n",
       "      <th>order_placed_at</th>\n",
       "    </tr>\n",
       "  </thead>\n",
       "  <tbody>\n",
       "    <tr>\n",
       "      <th>0</th>\n",
       "      <td>321230114</td>\n",
       "      <td>2020-12-11 00:01:29</td>\n",
       "    </tr>\n",
       "    <tr>\n",
       "      <th>1</th>\n",
       "      <td>321230115</td>\n",
       "      <td>2020-12-11 00:36:02</td>\n",
       "    </tr>\n",
       "    <tr>\n",
       "      <th>2</th>\n",
       "      <td>321230116</td>\n",
       "      <td>2020-12-11 00:55:01</td>\n",
       "    </tr>\n",
       "    <tr>\n",
       "      <th>3</th>\n",
       "      <td>321230117</td>\n",
       "      <td>2020-12-11 01:05:27</td>\n",
       "    </tr>\n",
       "    <tr>\n",
       "      <th>4</th>\n",
       "      <td>321230118</td>\n",
       "      <td>2020-12-11 01:14:20</td>\n",
       "    </tr>\n",
       "    <tr>\n",
       "      <th>...</th>\n",
       "      <td>...</td>\n",
       "      <td>...</td>\n",
       "    </tr>\n",
       "    <tr>\n",
       "      <th>454331</th>\n",
       "      <td>321684445</td>\n",
       "      <td>2024-01-31 23:27:51</td>\n",
       "    </tr>\n",
       "    <tr>\n",
       "      <th>454332</th>\n",
       "      <td>321684446</td>\n",
       "      <td>2024-01-31 23:40:14</td>\n",
       "    </tr>\n",
       "    <tr>\n",
       "      <th>454333</th>\n",
       "      <td>321684447</td>\n",
       "      <td>2024-01-31 23:36:08</td>\n",
       "    </tr>\n",
       "    <tr>\n",
       "      <th>454334</th>\n",
       "      <td>321684448</td>\n",
       "      <td>2024-01-31 23:58:05</td>\n",
       "    </tr>\n",
       "    <tr>\n",
       "      <th>454335</th>\n",
       "      <td>321684449</td>\n",
       "      <td>2024-01-31 23:55:46</td>\n",
       "    </tr>\n",
       "  </tbody>\n",
       "</table>\n",
       "<p>454336 rows × 2 columns</p>\n",
       "</div>"
      ],
      "text/plain": [
       "         order_id     order_placed_at\n",
       "0       321230114 2020-12-11 00:01:29\n",
       "1       321230115 2020-12-11 00:36:02\n",
       "2       321230116 2020-12-11 00:55:01\n",
       "3       321230117 2020-12-11 01:05:27\n",
       "4       321230118 2020-12-11 01:14:20\n",
       "...           ...                 ...\n",
       "454331  321684445 2024-01-31 23:27:51\n",
       "454332  321684446 2024-01-31 23:40:14\n",
       "454333  321684447 2024-01-31 23:36:08\n",
       "454334  321684448 2024-01-31 23:58:05\n",
       "454335  321684449 2024-01-31 23:55:46\n",
       "\n",
       "[454336 rows x 2 columns]"
      ]
     },
     "execution_count": 74,
     "metadata": {},
     "output_type": "execute_result"
    }
   ],
   "source": [
    "orders.sort_values(by='order_placed_at').reset_index(drop=True)\n",
    "orders"
   ]
  },
  {
   "cell_type": "code",
   "execution_count": 75,
   "id": "edc36468",
   "metadata": {},
   "outputs": [
    {
     "data": {
      "text/plain": [
       "Timestamp('2024-01-31 23:58:05')"
      ]
     },
     "execution_count": 75,
     "metadata": {},
     "output_type": "execute_result"
    }
   ],
   "source": [
    "orders['order_placed_at'].max()"
   ]
  },
  {
   "cell_type": "code",
   "execution_count": 76,
   "id": "b10ec94b",
   "metadata": {},
   "outputs": [
    {
     "data": {
      "text/plain": [
       "(454336, 2)"
      ]
     },
     "execution_count": 76,
     "metadata": {},
     "output_type": "execute_result"
    }
   ],
   "source": [
    "orders.shape"
   ]
  },
  {
   "cell_type": "code",
   "execution_count": 77,
   "id": "99826fb1",
   "metadata": {},
   "outputs": [],
   "source": [
    "abc = orders['order_placed_at'].dt.hour"
   ]
  },
  {
   "cell_type": "markdown",
   "id": "62dfe24d",
   "metadata": {},
   "source": [
    "### (BONUS QUESTION) Which distribution can be used to model the number of orders incoming each hour? If we can somehow model it, which problem for owner of Pizza Store can be solved? (Implement this in a Jupyter Notebook. Upload your implementation on the google drive and share the link below.) "
   ]
  },
  {
   "cell_type": "code",
   "execution_count": 78,
   "id": "91b9807e",
   "metadata": {},
   "outputs": [
    {
     "data": {
      "text/plain": [
       "Text(0, 0.5, 'no of orders')"
      ]
     },
     "execution_count": 78,
     "metadata": {},
     "output_type": "execute_result"
    },
    {
     "data": {
      "image/png": "[encoded data removed]",
      "text/plain": [
       "<Figure size 640x480 with 1 Axes>"
      ]
     },
     "metadata": {},
     "output_type": "display_data"
    }
   ],
   "source": [
    "abc.value_counts().plot(kind='bar')\n",
    "plt.xlabel('hour')\n",
    "plt.ylabel('no of orders')"
   ]
  },
  {
   "cell_type": "code",
   "execution_count": 79,
   "id": "9aea6eb7",
   "metadata": {},
   "outputs": [],
   "source": [
    "# The above distribution is poission distribution\n",
    "# kind of plot used is bar plot\n",
    "# The plot demostrates the total no orders received per each hour\n",
    "# by observing above plot we can see the what are the peak hour for business and low hour business so that we can manage our resouces efficiently\n",
    "# The both major problems of kanav are delivery time and customer satisfaction\n",
    "# Kanav has to hire delivery agents such a way that more no of delivery agents should be active during the hours 8:00 to 20:00 and less no of delivery agents between 00:00 to 8:00\n",
    "# by this the pizza deliveries would be on time resulting in less chance of giving refund and also by delivering on time results in customer satisfaction"
   ]
  },
  {
   "cell_type": "raw",
   "id": "edc9c0ee",
   "metadata": {},
   "source": [
    "This is the well paginated report regarding the kanav's pizza store based on past data, by analyzing the frequency of orders receiving each hour"
   ]
  },
  {
   "cell_type": "raw",
   "id": "f68c6730",
   "metadata": {},
   "source": [
    "Kanav, the owner of the pizza store, employs a Poisson distribution to model the number of orders received each hour, which he visualizes using a bar plot. This insightful plot delineates the total number of orders received per hour, highlighting peak and off-peak hours for business operations. By scrutinizing the plot, Kanav discerns patterns that illuminate efficient resource management opportunities, addressing both delivery time and customer satisfaction concerns.\n",
    "\n",
    "Distribution Choice: Kanav adopts the Poisson distribution to model order influx per hour, a statistical tool suited for events occurring randomly over time intervals.\n",
    "\n",
    "Plot Type: Employing a bar plot, Kanav effectively illustrates the total number of orders received within distinct hourly intervals, providing a clear visual representation of order distribution throughout the day.\n",
    "\n",
    "Business Insight: Analyzing the plotted data, Kanav identifies peak and low-activity hours, facilitating resource allocation optimization. Specifically, he aims to allocate more delivery agents during peak hours (8:00 to 20:00) and reduce agent numbers during off-peak hours (00:00 to 8:00).\n",
    "\n",
    "Addressing Challenges: Kanav's focus on delivery time and customer satisfaction prompts strategic hiring and scheduling of delivery agents. With a surplus of agents during peak hours, timely deliveries are prioritized, reducing the likelihood of refunds and enhancing overall customer satisfaction.\n",
    "\n",
    "In essence, Kanav's analytical approach, grounded in statistical modeling and data visualization, enables him to proactively address operational challenges, enhancing service quality and customer experience while optimizing resource utilization for his pizza store."
   ]
  }
 ],
 "metadata": {
  "kernelspec": {
   "display_name": "Python 3 (ipykernel)",
   "language": "python",
   "name": "python3"
  },
  "language_info": {
   "codemirror_mode": {
    "name": "ipython",
    "version": 3
   },
   "file_extension": ".py",
   "mimetype": "text/x-python",
   "name": "python",
   "nbconvert_exporter": "python",
   "pygments_lexer": "ipython3",
   "version": "3.11.5"
  }
 },
 "nbformat": 4,
 "nbformat_minor": 5
}
